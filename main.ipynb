{
  "nbformat": 4,
  "nbformat_minor": 0,
  "metadata": {
    "colab": {
      "provenance": []
    },
    "kernelspec": {
      "name": "python3",
      "display_name": "Python 3"
    }
  },
  "cells": [
    {
      "cell_type": "code",
      "metadata": {
        "id": "oA7KOPBwAdG5",
        "colab": {
          "base_uri": "https://localhost:8080/"
        },
        "outputId": "b87d4080-1746-406e-ad01-d65c9e80e723"
      },
      "source": [
        "#load libraries\n",
        "import pandas as pd\n",
        "import numpy as np\n",
        "import matplotlib.pyplot as plt\n",
        "import seaborn as sns"
      ],
      "execution_count": 67,
      "outputs": [
        {
          "output_type": "stream",
          "name": "stdout",
          "text": [
            "time: 1.03 ms (started: 2022-12-07 09:38:54 +00:00)\n"
          ]
        }
      ]
    },
    {
      "cell_type": "code",
      "metadata": {
        "colab": {
          "base_uri": "https://localhost:8080/"
        },
        "id": "AA8-7Utoe8ZW",
        "outputId": "35a6d65f-e9c3-47b3-d701-d1424844567e"
      },
      "source": [
        "!pip install ipython-autotime\n",
        "\n",
        "%load_ext autotime"
      ],
      "execution_count": 68,
      "outputs": [
        {
          "output_type": "stream",
          "name": "stdout",
          "text": [
            "Looking in indexes: https://pypi.org/simple, https://us-python.pkg.dev/colab-wheels/public/simple/\n",
            "Requirement already satisfied: ipython-autotime in /usr/local/lib/python3.8/dist-packages (0.3.1)\n",
            "Requirement already satisfied: ipython in /usr/local/lib/python3.8/dist-packages (from ipython-autotime) (7.9.0)\n",
            "Requirement already satisfied: pexpect in /usr/local/lib/python3.8/dist-packages (from ipython->ipython-autotime) (4.8.0)\n",
            "Requirement already satisfied: backcall in /usr/local/lib/python3.8/dist-packages (from ipython->ipython-autotime) (0.2.0)\n",
            "Requirement already satisfied: setuptools>=18.5 in /usr/local/lib/python3.8/dist-packages (from ipython->ipython-autotime) (57.4.0)\n",
            "Requirement already satisfied: decorator in /usr/local/lib/python3.8/dist-packages (from ipython->ipython-autotime) (4.4.2)\n",
            "Requirement already satisfied: pygments in /usr/local/lib/python3.8/dist-packages (from ipython->ipython-autotime) (2.6.1)\n",
            "Requirement already satisfied: pickleshare in /usr/local/lib/python3.8/dist-packages (from ipython->ipython-autotime) (0.7.5)\n",
            "Requirement already satisfied: traitlets>=4.2 in /usr/local/lib/python3.8/dist-packages (from ipython->ipython-autotime) (5.1.1)\n",
            "Requirement already satisfied: jedi>=0.10 in /usr/local/lib/python3.8/dist-packages (from ipython->ipython-autotime) (0.18.2)\n",
            "Requirement already satisfied: prompt-toolkit<2.1.0,>=2.0.0 in /usr/local/lib/python3.8/dist-packages (from ipython->ipython-autotime) (2.0.10)\n",
            "Requirement already satisfied: parso<0.9.0,>=0.8.0 in /usr/local/lib/python3.8/dist-packages (from jedi>=0.10->ipython->ipython-autotime) (0.8.3)\n",
            "Requirement already satisfied: wcwidth in /usr/local/lib/python3.8/dist-packages (from prompt-toolkit<2.1.0,>=2.0.0->ipython->ipython-autotime) (0.2.5)\n",
            "Requirement already satisfied: six>=1.9.0 in /usr/local/lib/python3.8/dist-packages (from prompt-toolkit<2.1.0,>=2.0.0->ipython->ipython-autotime) (1.15.0)\n",
            "Requirement already satisfied: ptyprocess>=0.5 in /usr/local/lib/python3.8/dist-packages (from pexpect->ipython->ipython-autotime) (0.7.0)\n",
            "The autotime extension is already loaded. To reload it, use:\n",
            "  %reload_ext autotime\n",
            "time: 3.56 s (started: 2022-12-07 09:38:55 +00:00)\n"
          ]
        }
      ]
    },
    {
      "cell_type": "code",
      "metadata": {
        "id": "zn9CnQrPBeJ4",
        "colab": {
          "base_uri": "https://localhost:8080/",
          "height": 223
        },
        "outputId": "69138005-ad9e-4e34-d58f-ecba57f39ce5"
      },
      "source": [
        "# load dataset\n",
        "df = pd.read_excel(\"Force Dataset.xlsx\")\n",
        "df.tail()"
      ],
      "execution_count": 69,
      "outputs": [
        {
          "output_type": "execute_result",
          "data": {
            "text/plain": [
              "      Displacement           L          B         T             a  \\\n",
              "8529       11110.0  112.192121  27.940567  5.115273  25494.245033   \n",
              "8530       11110.0  112.192121  27.940567  5.115273  25494.245033   \n",
              "8531       11110.0  112.192121  27.940567  5.115273  25494.245033   \n",
              "8532       11110.0  112.192121  27.940567  5.115273  25494.245033   \n",
              "8533       11110.0  112.192121  27.940567  5.115273  25494.245033   \n",
              "\n",
              "                 b             c        FORCE  time         z         v  \n",
              "8529  23120.240497  31641.777057  6063.078356   491  0.120338  0.148511  \n",
              "8530  23120.240497  31641.777057  6063.078356   493  0.120753  0.149022  \n",
              "8531  23120.240497  31641.777057  6063.078356   495  0.121092  0.149441  \n",
              "8532  23120.240497  31641.777057  6063.078356   497  0.121355  0.149766  \n",
              "8533  23120.240497  31641.777057  6063.078356   499  0.121543  0.149998  "
            ],
            "text/html": [
              "\n",
              "  <div id=\"df-789c0cfe-c618-4d0f-91b8-4ec34cbda025\">\n",
              "    <div class=\"colab-df-container\">\n",
              "      <div>\n",
              "<style scoped>\n",
              "    .dataframe tbody tr th:only-of-type {\n",
              "        vertical-align: middle;\n",
              "    }\n",
              "\n",
              "    .dataframe tbody tr th {\n",
              "        vertical-align: top;\n",
              "    }\n",
              "\n",
              "    .dataframe thead th {\n",
              "        text-align: right;\n",
              "    }\n",
              "</style>\n",
              "<table border=\"1\" class=\"dataframe\">\n",
              "  <thead>\n",
              "    <tr style=\"text-align: right;\">\n",
              "      <th></th>\n",
              "      <th>Displacement</th>\n",
              "      <th>L</th>\n",
              "      <th>B</th>\n",
              "      <th>T</th>\n",
              "      <th>a</th>\n",
              "      <th>b</th>\n",
              "      <th>c</th>\n",
              "      <th>FORCE</th>\n",
              "      <th>time</th>\n",
              "      <th>z</th>\n",
              "      <th>v</th>\n",
              "    </tr>\n",
              "  </thead>\n",
              "  <tbody>\n",
              "    <tr>\n",
              "      <th>8529</th>\n",
              "      <td>11110.0</td>\n",
              "      <td>112.192121</td>\n",
              "      <td>27.940567</td>\n",
              "      <td>5.115273</td>\n",
              "      <td>25494.245033</td>\n",
              "      <td>23120.240497</td>\n",
              "      <td>31641.777057</td>\n",
              "      <td>6063.078356</td>\n",
              "      <td>491</td>\n",
              "      <td>0.120338</td>\n",
              "      <td>0.148511</td>\n",
              "    </tr>\n",
              "    <tr>\n",
              "      <th>8530</th>\n",
              "      <td>11110.0</td>\n",
              "      <td>112.192121</td>\n",
              "      <td>27.940567</td>\n",
              "      <td>5.115273</td>\n",
              "      <td>25494.245033</td>\n",
              "      <td>23120.240497</td>\n",
              "      <td>31641.777057</td>\n",
              "      <td>6063.078356</td>\n",
              "      <td>493</td>\n",
              "      <td>0.120753</td>\n",
              "      <td>0.149022</td>\n",
              "    </tr>\n",
              "    <tr>\n",
              "      <th>8531</th>\n",
              "      <td>11110.0</td>\n",
              "      <td>112.192121</td>\n",
              "      <td>27.940567</td>\n",
              "      <td>5.115273</td>\n",
              "      <td>25494.245033</td>\n",
              "      <td>23120.240497</td>\n",
              "      <td>31641.777057</td>\n",
              "      <td>6063.078356</td>\n",
              "      <td>495</td>\n",
              "      <td>0.121092</td>\n",
              "      <td>0.149441</td>\n",
              "    </tr>\n",
              "    <tr>\n",
              "      <th>8532</th>\n",
              "      <td>11110.0</td>\n",
              "      <td>112.192121</td>\n",
              "      <td>27.940567</td>\n",
              "      <td>5.115273</td>\n",
              "      <td>25494.245033</td>\n",
              "      <td>23120.240497</td>\n",
              "      <td>31641.777057</td>\n",
              "      <td>6063.078356</td>\n",
              "      <td>497</td>\n",
              "      <td>0.121355</td>\n",
              "      <td>0.149766</td>\n",
              "    </tr>\n",
              "    <tr>\n",
              "      <th>8533</th>\n",
              "      <td>11110.0</td>\n",
              "      <td>112.192121</td>\n",
              "      <td>27.940567</td>\n",
              "      <td>5.115273</td>\n",
              "      <td>25494.245033</td>\n",
              "      <td>23120.240497</td>\n",
              "      <td>31641.777057</td>\n",
              "      <td>6063.078356</td>\n",
              "      <td>499</td>\n",
              "      <td>0.121543</td>\n",
              "      <td>0.149998</td>\n",
              "    </tr>\n",
              "  </tbody>\n",
              "</table>\n",
              "</div>\n",
              "      <button class=\"colab-df-convert\" onclick=\"convertToInteractive('df-789c0cfe-c618-4d0f-91b8-4ec34cbda025')\"\n",
              "              title=\"Convert this dataframe to an interactive table.\"\n",
              "              style=\"display:none;\">\n",
              "        \n",
              "  <svg xmlns=\"http://www.w3.org/2000/svg\" height=\"24px\"viewBox=\"0 0 24 24\"\n",
              "       width=\"24px\">\n",
              "    <path d=\"M0 0h24v24H0V0z\" fill=\"none\"/>\n",
              "    <path d=\"M18.56 5.44l.94 2.06.94-2.06 2.06-.94-2.06-.94-.94-2.06-.94 2.06-2.06.94zm-11 1L8.5 8.5l.94-2.06 2.06-.94-2.06-.94L8.5 2.5l-.94 2.06-2.06.94zm10 10l.94 2.06.94-2.06 2.06-.94-2.06-.94-.94-2.06-.94 2.06-2.06.94z\"/><path d=\"M17.41 7.96l-1.37-1.37c-.4-.4-.92-.59-1.43-.59-.52 0-1.04.2-1.43.59L10.3 9.45l-7.72 7.72c-.78.78-.78 2.05 0 2.83L4 21.41c.39.39.9.59 1.41.59.51 0 1.02-.2 1.41-.59l7.78-7.78 2.81-2.81c.8-.78.8-2.07 0-2.86zM5.41 20L4 18.59l7.72-7.72 1.47 1.35L5.41 20z\"/>\n",
              "  </svg>\n",
              "      </button>\n",
              "      \n",
              "  <style>\n",
              "    .colab-df-container {\n",
              "      display:flex;\n",
              "      flex-wrap:wrap;\n",
              "      gap: 12px;\n",
              "    }\n",
              "\n",
              "    .colab-df-convert {\n",
              "      background-color: #E8F0FE;\n",
              "      border: none;\n",
              "      border-radius: 50%;\n",
              "      cursor: pointer;\n",
              "      display: none;\n",
              "      fill: #1967D2;\n",
              "      height: 32px;\n",
              "      padding: 0 0 0 0;\n",
              "      width: 32px;\n",
              "    }\n",
              "\n",
              "    .colab-df-convert:hover {\n",
              "      background-color: #E2EBFA;\n",
              "      box-shadow: 0px 1px 2px rgba(60, 64, 67, 0.3), 0px 1px 3px 1px rgba(60, 64, 67, 0.15);\n",
              "      fill: #174EA6;\n",
              "    }\n",
              "\n",
              "    [theme=dark] .colab-df-convert {\n",
              "      background-color: #3B4455;\n",
              "      fill: #D2E3FC;\n",
              "    }\n",
              "\n",
              "    [theme=dark] .colab-df-convert:hover {\n",
              "      background-color: #434B5C;\n",
              "      box-shadow: 0px 1px 3px 1px rgba(0, 0, 0, 0.15);\n",
              "      filter: drop-shadow(0px 1px 2px rgba(0, 0, 0, 0.3));\n",
              "      fill: #FFFFFF;\n",
              "    }\n",
              "  </style>\n",
              "\n",
              "      <script>\n",
              "        const buttonEl =\n",
              "          document.querySelector('#df-789c0cfe-c618-4d0f-91b8-4ec34cbda025 button.colab-df-convert');\n",
              "        buttonEl.style.display =\n",
              "          google.colab.kernel.accessAllowed ? 'block' : 'none';\n",
              "\n",
              "        async function convertToInteractive(key) {\n",
              "          const element = document.querySelector('#df-789c0cfe-c618-4d0f-91b8-4ec34cbda025');\n",
              "          const dataTable =\n",
              "            await google.colab.kernel.invokeFunction('convertToInteractive',\n",
              "                                                     [key], {});\n",
              "          if (!dataTable) return;\n",
              "\n",
              "          const docLinkHtml = 'Like what you see? Visit the ' +\n",
              "            '<a target=\"_blank\" href=https://colab.research.google.com/notebooks/data_table.ipynb>data table notebook</a>'\n",
              "            + ' to learn more about interactive tables.';\n",
              "          element.innerHTML = '';\n",
              "          dataTable['output_type'] = 'display_data';\n",
              "          await google.colab.output.renderOutput(dataTable, element);\n",
              "          const docLink = document.createElement('div');\n",
              "          docLink.innerHTML = docLinkHtml;\n",
              "          element.appendChild(docLink);\n",
              "        }\n",
              "      </script>\n",
              "    </div>\n",
              "  </div>\n",
              "  "
            ]
          },
          "metadata": {},
          "execution_count": 69
        },
        {
          "output_type": "stream",
          "name": "stdout",
          "text": [
            "time: 1.35 s (started: 2022-12-07 09:38:59 +00:00)\n"
          ]
        }
      ]
    },
    {
      "cell_type": "code",
      "metadata": {
        "id": "eajZAiS9BpTr",
        "colab": {
          "base_uri": "https://localhost:8080/"
        },
        "outputId": "420cbdbe-6d8c-41fd-b539-6fd1c37b5be6"
      },
      "source": [
        "df.isnull().sum() #no missing data"
      ],
      "execution_count": 70,
      "outputs": [
        {
          "output_type": "execute_result",
          "data": {
            "text/plain": [
              "Displacement    0\n",
              "L               0\n",
              "B               0\n",
              "T               0\n",
              "a               0\n",
              "b               0\n",
              "c               0\n",
              "FORCE           0\n",
              "time            0\n",
              "z               0\n",
              "v               0\n",
              "dtype: int64"
            ]
          },
          "metadata": {},
          "execution_count": 70
        },
        {
          "output_type": "stream",
          "name": "stdout",
          "text": [
            "time: 12.1 ms (started: 2022-12-07 09:39:00 +00:00)\n"
          ]
        }
      ]
    },
    {
      "cell_type": "code",
      "metadata": {
        "id": "sKsC1I5eB4QR",
        "colab": {
          "base_uri": "https://localhost:8080/"
        },
        "outputId": "6506d58e-d061-4707-d72d-889855ea220a"
      },
      "source": [
        "#training the model\n",
        "X = df[['L','B','T','time']].values\n",
        "y = df[['z']].values"
      ],
      "execution_count": 71,
      "outputs": [
        {
          "output_type": "stream",
          "name": "stdout",
          "text": [
            "time: 4.31 ms (started: 2022-12-07 09:39:00 +00:00)\n"
          ]
        }
      ]
    },
    {
      "cell_type": "code",
      "metadata": {
        "id": "gHnYGzagDoYd",
        "colab": {
          "base_uri": "https://localhost:8080/"
        },
        "outputId": "5b306eb9-e591-45d3-bb75-22fb1c317656"
      },
      "source": [
        "np.random.seed(42)"
      ],
      "execution_count": 72,
      "outputs": [
        {
          "output_type": "stream",
          "name": "stdout",
          "text": [
            "time: 597 µs (started: 2022-12-07 09:39:00 +00:00)\n"
          ]
        }
      ]
    },
    {
      "cell_type": "code",
      "metadata": {
        "id": "cIXX-1dODs5d",
        "colab": {
          "base_uri": "https://localhost:8080/"
        },
        "outputId": "9df50638-1cf4-4fa9-82c8-16ffeadfa1b1"
      },
      "source": [
        "from sklearn.model_selection import train_test_split\n",
        "X_train, X_test, y_train, y_Test = train_test_split(X,y,test_size=0.2,random_state=42)"
      ],
      "execution_count": 73,
      "outputs": [
        {
          "output_type": "stream",
          "name": "stdout",
          "text": [
            "time: 3.45 ms (started: 2022-12-07 09:39:00 +00:00)\n"
          ]
        }
      ]
    },
    {
      "cell_type": "code",
      "metadata": {
        "id": "DQQSAkSVEBgy",
        "colab": {
          "base_uri": "https://localhost:8080/"
        },
        "outputId": "c271d676-6b23-4694-bfc0-1e43ebbc7c26"
      },
      "source": [
        "from sklearn.preprocessing import MinMaxScaler\n",
        "scaler = MinMaxScaler()"
      ],
      "execution_count": 74,
      "outputs": [
        {
          "output_type": "stream",
          "name": "stdout",
          "text": [
            "time: 683 µs (started: 2022-12-07 09:39:00 +00:00)\n"
          ]
        }
      ]
    },
    {
      "cell_type": "code",
      "metadata": {
        "id": "f6R3VxCSEIA8",
        "colab": {
          "base_uri": "https://localhost:8080/"
        },
        "outputId": "65aa4ecb-9802-4b60-c9cb-8123ac2476b3"
      },
      "source": [
        "scaler.fit(X_train)\n",
        "X_train = scaler.transform(X_train)\n",
        "X_test = scaler.transform(X_test)"
      ],
      "execution_count": 75,
      "outputs": [
        {
          "output_type": "stream",
          "name": "stdout",
          "text": [
            "time: 5.26 ms (started: 2022-12-07 09:39:00 +00:00)\n"
          ]
        }
      ]
    },
    {
      "cell_type": "code",
      "metadata": {
        "id": "jxu86H_WEPjf",
        "colab": {
          "base_uri": "https://localhost:8080/"
        },
        "outputId": "30aa59b9-5475-42fe-b512-695da289b818"
      },
      "source": [
        "from tensorflow.keras.models import Sequential\n",
        "from tensorflow.keras.layers import Dense"
      ],
      "execution_count": 76,
      "outputs": [
        {
          "output_type": "stream",
          "name": "stdout",
          "text": [
            "time: 885 µs (started: 2022-12-07 09:39:00 +00:00)\n"
          ]
        }
      ]
    },
    {
      "cell_type": "code",
      "metadata": {
        "id": "M6MZ3CHRERdi",
        "colab": {
          "base_uri": "https://localhost:8080/"
        },
        "outputId": "3e699e57-3faf-4e23-d386-2c0944792104"
      },
      "source": [
        "model = Sequential()\n",
        "model.add(Dense(300,activation='relu'))\n",
        "model.add(Dense(300,activation='relu'))\n",
        "model.add(Dense(300,activation='relu'))\n",
        "model.add(Dense(1))\n",
        "model.compile(optimizer='rmsprop',loss='mse')\n",
        "model.fit(X_train,y_train,batch_size=32,epochs=20)"
      ],
      "execution_count": 77,
      "outputs": [
        {
          "output_type": "stream",
          "name": "stdout",
          "text": [
            "Epoch 1/20\n",
            "214/214 [==============================] - 2s 7ms/step - loss: 0.0031\n",
            "Epoch 2/20\n",
            "214/214 [==============================] - 1s 6ms/step - loss: 4.6327e-04\n",
            "Epoch 3/20\n",
            "214/214 [==============================] - 1s 7ms/step - loss: 3.1660e-04\n",
            "Epoch 4/20\n",
            "214/214 [==============================] - 1s 6ms/step - loss: 2.1924e-04\n",
            "Epoch 5/20\n",
            "214/214 [==============================] - 1s 6ms/step - loss: 1.9430e-04\n",
            "Epoch 6/20\n",
            "214/214 [==============================] - 2s 9ms/step - loss: 1.6275e-04\n",
            "Epoch 7/20\n",
            "214/214 [==============================] - 2s 11ms/step - loss: 1.4998e-04\n",
            "Epoch 8/20\n",
            "214/214 [==============================] - 2s 10ms/step - loss: 1.3470e-04\n",
            "Epoch 9/20\n",
            "214/214 [==============================] - 2s 11ms/step - loss: 1.2643e-04\n",
            "Epoch 10/20\n",
            "214/214 [==============================] - 2s 11ms/step - loss: 1.1983e-04\n",
            "Epoch 11/20\n",
            "214/214 [==============================] - 2s 10ms/step - loss: 1.1177e-04\n",
            "Epoch 12/20\n",
            "214/214 [==============================] - 3s 12ms/step - loss: 1.0647e-04\n",
            "Epoch 13/20\n",
            "214/214 [==============================] - 2s 11ms/step - loss: 1.0454e-04\n",
            "Epoch 14/20\n",
            "214/214 [==============================] - 2s 11ms/step - loss: 9.8697e-05\n",
            "Epoch 15/20\n",
            "214/214 [==============================] - 2s 10ms/step - loss: 9.4940e-05\n",
            "Epoch 16/20\n",
            "214/214 [==============================] - 2s 8ms/step - loss: 9.2123e-05\n",
            "Epoch 17/20\n",
            "214/214 [==============================] - 1s 6ms/step - loss: 9.1548e-05\n",
            "Epoch 18/20\n",
            "214/214 [==============================] - 1s 6ms/step - loss: 8.5060e-05\n",
            "Epoch 19/20\n",
            "214/214 [==============================] - 1s 6ms/step - loss: 8.6838e-05\n",
            "Epoch 20/20\n",
            "214/214 [==============================] - 1s 6ms/step - loss: 8.2732e-05\n"
          ]
        },
        {
          "output_type": "execute_result",
          "data": {
            "text/plain": [
              "<keras.callbacks.History at 0x7f322cbbfb80>"
            ]
          },
          "metadata": {},
          "execution_count": 77
        },
        {
          "output_type": "stream",
          "name": "stdout",
          "text": [
            "time: 37.8 s (started: 2022-12-07 09:39:00 +00:00)\n"
          ]
        }
      ]
    },
    {
      "cell_type": "code",
      "metadata": {
        "colab": {
          "base_uri": "https://localhost:8080/"
        },
        "id": "SyJW2or02LUk",
        "outputId": "9c66b6d2-e75a-47db-ed68-9982462b5afb"
      },
      "source": [
        "model.summary()"
      ],
      "execution_count": 78,
      "outputs": [
        {
          "output_type": "stream",
          "name": "stdout",
          "text": [
            "Model: \"sequential_2\"\n",
            "_________________________________________________________________\n",
            " Layer (type)                Output Shape              Param #   \n",
            "=================================================================\n",
            " dense_8 (Dense)             (None, 300)               1500      \n",
            "                                                                 \n",
            " dense_9 (Dense)             (None, 300)               90300     \n",
            "                                                                 \n",
            " dense_10 (Dense)            (None, 300)               90300     \n",
            "                                                                 \n",
            " dense_11 (Dense)            (None, 1)                 301       \n",
            "                                                                 \n",
            "=================================================================\n",
            "Total params: 182,401\n",
            "Trainable params: 182,401\n",
            "Non-trainable params: 0\n",
            "_________________________________________________________________\n",
            "time: 28.2 ms (started: 2022-12-07 09:39:38 +00:00)\n"
          ]
        }
      ]
    },
    {
      "cell_type": "code",
      "metadata": {
        "id": "9dYQ6c9CLdIS",
        "colab": {
          "base_uri": "https://localhost:8080/"
        },
        "outputId": "4a28a0a9-b505-4849-c3d5-daecf1718a68"
      },
      "source": [
        "loss_df = pd.DataFrame(model.history.history)"
      ],
      "execution_count": 79,
      "outputs": [
        {
          "output_type": "stream",
          "name": "stdout",
          "text": [
            "time: 1.91 ms (started: 2022-12-07 09:39:38 +00:00)\n"
          ]
        }
      ]
    },
    {
      "cell_type": "code",
      "metadata": {
        "id": "U-3BZq6DLjoU",
        "colab": {
          "base_uri": "https://localhost:8080/",
          "height": 314
        },
        "outputId": "1f3b3e42-6cb3-44ad-e840-8982f44eb43c"
      },
      "source": [
        "loss_df.plot()\n",
        "plt.xlabel(\"Iteration no.\")\n",
        "plt.ylabel(\"Mean squared error\")\n",
        "#loss_df.savefig('1 rmse.png')"
      ],
      "execution_count": 80,
      "outputs": [
        {
          "output_type": "execute_result",
          "data": {
            "text/plain": [
              "Text(0, 0.5, 'Mean squared error')"
            ]
          },
          "metadata": {},
          "execution_count": 80
        },
        {
          "output_type": "display_data",
          "data": {
            "text/plain": [
              "<Figure size 432x288 with 1 Axes>"
            ],
            "image/png": "[encoded data removed]"
          },
          "metadata": {
            "needs_background": "light"
          }
        },
        {
          "output_type": "stream",
          "name": "stdout",
          "text": [
            "time: 254 ms (started: 2022-12-07 09:39:38 +00:00)\n"
          ]
        }
      ]
    },
    {
      "cell_type": "code",
      "metadata": {
        "id": "hKHzjR9VLoxP",
        "colab": {
          "base_uri": "https://localhost:8080/"
        },
        "outputId": "3d95adbb-128c-47bb-afec-d1f44c976739"
      },
      "source": [
        "model.evaluate(X_test,y_Test)"
      ],
      "execution_count": 81,
      "outputs": [
        {
          "output_type": "stream",
          "name": "stdout",
          "text": [
            "54/54 [==============================] - 0s 2ms/step - loss: 7.5983e-05\n"
          ]
        },
        {
          "output_type": "execute_result",
          "data": {
            "text/plain": [
              "7.598254160257056e-05"
            ]
          },
          "metadata": {},
          "execution_count": 81
        },
        {
          "output_type": "stream",
          "name": "stdout",
          "text": [
            "time: 290 ms (started: 2022-12-07 09:39:38 +00:00)\n"
          ]
        }
      ]
    },
    {
      "cell_type": "code",
      "metadata": {
        "id": "cDIFAjcmLwuO",
        "colab": {
          "base_uri": "https://localhost:8080/"
        },
        "outputId": "88624685-2501-41fd-b0f8-79cb81a98df3"
      },
      "source": [
        "model.evaluate(X_train,y_train)"
      ],
      "execution_count": 82,
      "outputs": [
        {
          "output_type": "stream",
          "name": "stdout",
          "text": [
            "214/214 [==============================] - 1s 4ms/step - loss: 6.7906e-05\n"
          ]
        },
        {
          "output_type": "execute_result",
          "data": {
            "text/plain": [
              "6.790619227103889e-05"
            ]
          },
          "metadata": {},
          "execution_count": 82
        },
        {
          "output_type": "stream",
          "name": "stdout",
          "text": [
            "time: 831 ms (started: 2022-12-07 09:39:39 +00:00)\n"
          ]
        }
      ]
    },
    {
      "cell_type": "code",
      "metadata": {
        "id": "w27Ns2BauHeQ",
        "colab": {
          "base_uri": "https://localhost:8080/"
        },
        "outputId": "7b1a8458-4aea-4057-9a6f-c11e8cbb3409"
      },
      "source": [
        "train_predictions= model.predict(X_train)"
      ],
      "execution_count": 83,
      "outputs": [
        {
          "output_type": "stream",
          "name": "stdout",
          "text": [
            "214/214 [==============================] - 1s 3ms/step\n",
            "time: 1.38 s (started: 2022-12-07 09:39:39 +00:00)\n"
          ]
        }
      ]
    },
    {
      "cell_type": "code",
      "metadata": {
        "id": "UUplEnfUL2Xc",
        "colab": {
          "base_uri": "https://localhost:8080/"
        },
        "outputId": "fc39226b-7a83-4049-f852-636a7e82d706"
      },
      "source": [
        "test_predictions = model.predict(X_test)"
      ],
      "execution_count": 84,
      "outputs": [
        {
          "output_type": "stream",
          "name": "stdout",
          "text": [
            "54/54 [==============================] - 0s 2ms/step\n",
            "time: 171 ms (started: 2022-12-07 09:39:41 +00:00)\n"
          ]
        }
      ]
    },
    {
      "cell_type": "code",
      "metadata": {
        "colab": {
          "base_uri": "https://localhost:8080/"
        },
        "id": "L1xWptVYWNVv",
        "outputId": "8bb0bc63-7ebc-4dfb-de4f-74113d45262d"
      },
      "source": [
        "test_predictions.shape"
      ],
      "execution_count": 85,
      "outputs": [
        {
          "output_type": "execute_result",
          "data": {
            "text/plain": [
              "(1707, 1)"
            ]
          },
          "metadata": {},
          "execution_count": 85
        },
        {
          "output_type": "stream",
          "name": "stdout",
          "text": [
            "time: 5.14 ms (started: 2022-12-07 09:39:41 +00:00)\n"
          ]
        }
      ]
    },
    {
      "cell_type": "code",
      "metadata": {
        "colab": {
          "base_uri": "https://localhost:8080/"
        },
        "id": "jI2dw3I5WU4C",
        "outputId": "bd69f2af-71d4-4984-d7cd-f1013950e24f"
      },
      "source": [
        "print(test_predictions)"
      ],
      "execution_count": 86,
      "outputs": [
        {
          "output_type": "stream",
          "name": "stdout",
          "text": [
            "[[-0.02451152]\n",
            " [ 0.10134751]\n",
            " [ 0.12101279]\n",
            " ...\n",
            " [ 0.01381583]\n",
            " [ 0.01493145]\n",
            " [-0.06405699]]\n",
            "time: 1 ms (started: 2022-12-07 09:39:41 +00:00)\n"
          ]
        }
      ]
    },
    {
      "cell_type": "code",
      "metadata": {
        "id": "5bcPsZBvUyLC",
        "colab": {
          "base_uri": "https://localhost:8080/"
        },
        "outputId": "56e590bc-ffde-4648-eef9-20dbbea1e684"
      },
      "source": [
        "pred_df = pd.DataFrame(y_Test,columns=['Test True z'])"
      ],
      "execution_count": 87,
      "outputs": [
        {
          "output_type": "stream",
          "name": "stdout",
          "text": [
            "time: 1.73 ms (started: 2022-12-07 09:39:41 +00:00)\n"
          ]
        }
      ]
    },
    {
      "cell_type": "code",
      "metadata": {
        "id": "u0vmiZLzVKwn",
        "colab": {
          "base_uri": "https://localhost:8080/"
        },
        "outputId": "77cbf5d8-4999-4243-f3a0-18fa133dbd7b"
      },
      "source": [
        "pred_df2 = pd.DataFrame(test_predictions,columns=['Test predicted z'])"
      ],
      "execution_count": 88,
      "outputs": [
        {
          "output_type": "stream",
          "name": "stdout",
          "text": [
            "time: 1.17 ms (started: 2022-12-07 09:39:41 +00:00)\n"
          ]
        }
      ]
    },
    {
      "cell_type": "code",
      "metadata": {
        "colab": {
          "base_uri": "https://localhost:8080/",
          "height": 441
        },
        "id": "io1Dmy0YU6FQ",
        "outputId": "7989ed73-0bec-4b72-b286-85ea197030ec"
      },
      "source": [
        "pred_df = pd.concat([pred_df,pred_df2],axis=1)\n",
        "pred_df"
      ],
      "execution_count": 89,
      "outputs": [
        {
          "output_type": "execute_result",
          "data": {
            "text/plain": [
              "      Test True z  Test predicted z\n",
              "0       -0.026371         -0.024512\n",
              "1        0.102234          0.101348\n",
              "2        0.121689          0.121013\n",
              "3       -0.007470         -0.006319\n",
              "4       -0.102224         -0.102753\n",
              "...           ...               ...\n",
              "1702     0.118405          0.117255\n",
              "1703     0.049309          0.052572\n",
              "1704     0.010873          0.013816\n",
              "1705     0.006112          0.014931\n",
              "1706    -0.059989         -0.064057\n",
              "\n",
              "[1707 rows x 2 columns]"
            ],
            "text/html": [
              "\n",
              "  <div id=\"df-e23a374a-37e2-44bf-ae50-f962315a3414\">\n",
              "    <div class=\"colab-df-container\">\n",
              "      <div>\n",
              "<style scoped>\n",
              "    .dataframe tbody tr th:only-of-type {\n",
              "        vertical-align: middle;\n",
              "    }\n",
              "\n",
              "    .dataframe tbody tr th {\n",
              "        vertical-align: top;\n",
              "    }\n",
              "\n",
              "    .dataframe thead th {\n",
              "        text-align: right;\n",
              "    }\n",
              "</style>\n",
              "<table border=\"1\" class=\"dataframe\">\n",
              "  <thead>\n",
              "    <tr style=\"text-align: right;\">\n",
              "      <th></th>\n",
              "      <th>Test True z</th>\n",
              "      <th>Test predicted z</th>\n",
              "    </tr>\n",
              "  </thead>\n",
              "  <tbody>\n",
              "    <tr>\n",
              "      <th>0</th>\n",
              "      <td>-0.026371</td>\n",
              "      <td>-0.024512</td>\n",
              "    </tr>\n",
              "    <tr>\n",
              "      <th>1</th>\n",
              "      <td>0.102234</td>\n",
              "      <td>0.101348</td>\n",
              "    </tr>\n",
              "    <tr>\n",
              "      <th>2</th>\n",
              "      <td>0.121689</td>\n",
              "      <td>0.121013</td>\n",
              "    </tr>\n",
              "    <tr>\n",
              "      <th>3</th>\n",
              "      <td>-0.007470</td>\n",
              "      <td>-0.006319</td>\n",
              "    </tr>\n",
              "    <tr>\n",
              "      <th>4</th>\n",
              "      <td>-0.102224</td>\n",
              "      <td>-0.102753</td>\n",
              "    </tr>\n",
              "    <tr>\n",
              "      <th>...</th>\n",
              "      <td>...</td>\n",
              "      <td>...</td>\n",
              "    </tr>\n",
              "    <tr>\n",
              "      <th>1702</th>\n",
              "      <td>0.118405</td>\n",
              "      <td>0.117255</td>\n",
              "    </tr>\n",
              "    <tr>\n",
              "      <th>1703</th>\n",
              "      <td>0.049309</td>\n",
              "      <td>0.052572</td>\n",
              "    </tr>\n",
              "    <tr>\n",
              "      <th>1704</th>\n",
              "      <td>0.010873</td>\n",
              "      <td>0.013816</td>\n",
              "    </tr>\n",
              "    <tr>\n",
              "      <th>1705</th>\n",
              "      <td>0.006112</td>\n",
              "      <td>0.014931</td>\n",
              "    </tr>\n",
              "    <tr>\n",
              "      <th>1706</th>\n",
              "      <td>-0.059989</td>\n",
              "      <td>-0.064057</td>\n",
              "    </tr>\n",
              "  </tbody>\n",
              "</table>\n",
              "<p>1707 rows × 2 columns</p>\n",
              "</div>\n",
              "      <button class=\"colab-df-convert\" onclick=\"convertToInteractive('df-e23a374a-37e2-44bf-ae50-f962315a3414')\"\n",
              "              title=\"Convert this dataframe to an interactive table.\"\n",
              "              style=\"display:none;\">\n",
              "        \n",
              "  <svg xmlns=\"http://www.w3.org/2000/svg\" height=\"24px\"viewBox=\"0 0 24 24\"\n",
              "       width=\"24px\">\n",
              "    <path d=\"M0 0h24v24H0V0z\" fill=\"none\"/>\n",
              "    <path d=\"M18.56 5.44l.94 2.06.94-2.06 2.06-.94-2.06-.94-.94-2.06-.94 2.06-2.06.94zm-11 1L8.5 8.5l.94-2.06 2.06-.94-2.06-.94L8.5 2.5l-.94 2.06-2.06.94zm10 10l.94 2.06.94-2.06 2.06-.94-2.06-.94-.94-2.06-.94 2.06-2.06.94z\"/><path d=\"M17.41 7.96l-1.37-1.37c-.4-.4-.92-.59-1.43-.59-.52 0-1.04.2-1.43.59L10.3 9.45l-7.72 7.72c-.78.78-.78 2.05 0 2.83L4 21.41c.39.39.9.59 1.41.59.51 0 1.02-.2 1.41-.59l7.78-7.78 2.81-2.81c.8-.78.8-2.07 0-2.86zM5.41 20L4 18.59l7.72-7.72 1.47 1.35L5.41 20z\"/>\n",
              "  </svg>\n",
              "      </button>\n",
              "      \n",
              "  <style>\n",
              "    .colab-df-container {\n",
              "      display:flex;\n",
              "      flex-wrap:wrap;\n",
              "      gap: 12px;\n",
              "    }\n",
              "\n",
              "    .colab-df-convert {\n",
              "      background-color: #E8F0FE;\n",
              "      border: none;\n",
              "      border-radius: 50%;\n",
              "      cursor: pointer;\n",
              "      display: none;\n",
              "      fill: #1967D2;\n",
              "      height: 32px;\n",
              "      padding: 0 0 0 0;\n",
              "      width: 32px;\n",
              "    }\n",
              "\n",
              "    .colab-df-convert:hover {\n",
              "      background-color: #E2EBFA;\n",
              "      box-shadow: 0px 1px 2px rgba(60, 64, 67, 0.3), 0px 1px 3px 1px rgba(60, 64, 67, 0.15);\n",
              "      fill: #174EA6;\n",
              "    }\n",
              "\n",
              "    [theme=dark] .colab-df-convert {\n",
              "      background-color: #3B4455;\n",
              "      fill: #D2E3FC;\n",
              "    }\n",
              "\n",
              "    [theme=dark] .colab-df-convert:hover {\n",
              "      background-color: #434B5C;\n",
              "      box-shadow: 0px 1px 3px 1px rgba(0, 0, 0, 0.15);\n",
              "      filter: drop-shadow(0px 1px 2px rgba(0, 0, 0, 0.3));\n",
              "      fill: #FFFFFF;\n",
              "    }\n",
              "  </style>\n",
              "\n",
              "      <script>\n",
              "        const buttonEl =\n",
              "          document.querySelector('#df-e23a374a-37e2-44bf-ae50-f962315a3414 button.colab-df-convert');\n",
              "        buttonEl.style.display =\n",
              "          google.colab.kernel.accessAllowed ? 'block' : 'none';\n",
              "\n",
              "        async function convertToInteractive(key) {\n",
              "          const element = document.querySelector('#df-e23a374a-37e2-44bf-ae50-f962315a3414');\n",
              "          const dataTable =\n",
              "            await google.colab.kernel.invokeFunction('convertToInteractive',\n",
              "                                                     [key], {});\n",
              "          if (!dataTable) return;\n",
              "\n",
              "          const docLinkHtml = 'Like what you see? Visit the ' +\n",
              "            '<a target=\"_blank\" href=https://colab.research.google.com/notebooks/data_table.ipynb>data table notebook</a>'\n",
              "            + ' to learn more about interactive tables.';\n",
              "          element.innerHTML = '';\n",
              "          dataTable['output_type'] = 'display_data';\n",
              "          await google.colab.output.renderOutput(dataTable, element);\n",
              "          const docLink = document.createElement('div');\n",
              "          docLink.innerHTML = docLinkHtml;\n",
              "          element.appendChild(docLink);\n",
              "        }\n",
              "      </script>\n",
              "    </div>\n",
              "  </div>\n",
              "  "
            ]
          },
          "metadata": {},
          "execution_count": 89
        },
        {
          "output_type": "stream",
          "name": "stdout",
          "text": [
            "time: 21.7 ms (started: 2022-12-07 09:39:41 +00:00)\n"
          ]
        }
      ]
    },
    {
      "cell_type": "code",
      "metadata": {
        "colab": {
          "base_uri": "https://localhost:8080/",
          "height": 367
        },
        "id": "z5Ew8IsF1BsF",
        "outputId": "ab903dec-0ba8-41b9-d383-ed89b4d2aab7"
      },
      "source": [
        "fig=plt.figure (figsize = (14,5))\n",
        "plt.plot(y_Test, color = 'green', label = 'Cases Actual')\n",
        "plt.plot(test_predictions,color = 'red', label = 'Prediction')\n",
        "plt.title('Prediction Barge')\n",
        "plt.xlabel('time (s)')\n",
        "plt.ylabel('Heaving Displacement (m)')\n",
        "plt.legend()\n",
        "plt.show()\n",
        "fig.savefig('1.png')"
      ],
      "execution_count": 90,
      "outputs": [
        {
          "output_type": "display_data",
          "data": {
            "text/plain": [
              "<Figure size 1008x360 with 1 Axes>"
            ],
            "image/png": "[encoded data removed]"
          },
          "metadata": {
            "needs_background": "light"
          }
        },
        {
          "output_type": "stream",
          "name": "stdout",
          "text": [
            "time: 494 ms (started: 2022-12-07 09:39:41 +00:00)\n"
          ]
        }
      ]
    },
    {
      "cell_type": "code",
      "metadata": {
        "id": "T7e5asH0MPWS",
        "colab": {
          "base_uri": "https://localhost:8080/"
        },
        "outputId": "46b4aee5-5c9b-4420-818d-7d4430f64090"
      },
      "source": [
        "new_gem = [[154,40,8,9]]\n",
        "new_gem = scaler.transform(new_gem)\n",
        "new_gem"
      ],
      "execution_count": 91,
      "outputs": [
        {
          "output_type": "execute_result",
          "data": {
            "text/plain": [
              "array([[1.37587605, 1.46813501, 1.67519028, 0.01803607]])"
            ]
          },
          "metadata": {},
          "execution_count": 91
        },
        {
          "output_type": "stream",
          "name": "stdout",
          "text": [
            "time: 6.33 ms (started: 2022-12-07 09:39:42 +00:00)\n"
          ]
        }
      ]
    },
    {
      "cell_type": "code",
      "metadata": {
        "id": "6CN6UEUlM4EX",
        "colab": {
          "base_uri": "https://localhost:8080/"
        },
        "outputId": "f8ae2d24-897e-4d13-e1fa-5189a213fa33"
      },
      "source": [
        "model.predict(new_gem)"
      ],
      "execution_count": 92,
      "outputs": [
        {
          "output_type": "stream",
          "name": "stdout",
          "text": [
            "1/1 [==============================] - 0s 28ms/step\n"
          ]
        },
        {
          "output_type": "execute_result",
          "data": {
            "text/plain": [
              "array([[0.13874915]], dtype=float32)"
            ]
          },
          "metadata": {},
          "execution_count": 92
        },
        {
          "output_type": "stream",
          "name": "stdout",
          "text": [
            "time: 76.5 ms (started: 2022-12-07 09:39:42 +00:00)\n"
          ]
        }
      ]
    },
    {
      "cell_type": "code",
      "metadata": {
        "id": "X2EBrEZJu42g",
        "colab": {
          "base_uri": "https://localhost:8080/",
          "height": 409
        },
        "outputId": "f84160e6-9ec3-472a-c268-069c4390009f"
      },
      "source": [
        "plt.figure(figsize=(10,6))\n",
        "plt.scatter(y_Test,test_predictions)\n",
        "plt.plot(y_Test,y_Test,'r')"
      ],
      "execution_count": 93,
      "outputs": [
        {
          "output_type": "execute_result",
          "data": {
            "text/plain": [
              "[<matplotlib.lines.Line2D at 0x7f32251a95b0>]"
            ]
          },
          "metadata": {},
          "execution_count": 93
        },
        {
          "output_type": "display_data",
          "data": {
            "text/plain": [
              "<Figure size 720x432 with 1 Axes>"
            ],
            "image/png": "[encoded data removed]"
          },
          "metadata": {
            "needs_background": "light"
          }
        },
        {
          "output_type": "stream",
          "name": "stdout",
          "text": [
            "time: 229 ms (started: 2022-12-07 09:39:42 +00:00)\n"
          ]
        }
      ]
    },
    {
      "cell_type": "code",
      "metadata": {
        "id": "v4QUEP_P0MhH",
        "colab": {
          "base_uri": "https://localhost:8080/",
          "height": 409
        },
        "outputId": "59ef6074-da59-4395-81ba-49f138f440d0"
      },
      "source": [
        "plt.figure(figsize=(10,6))\n",
        "plt.scatter(y_Test,test_predictions)\n",
        "plt.plot(y_Test,y_Test,'r')"
      ],
      "execution_count": 94,
      "outputs": [
        {
          "output_type": "execute_result",
          "data": {
            "text/plain": [
              "[<matplotlib.lines.Line2D at 0x7f32251d2d90>]"
            ]
          },
          "metadata": {},
          "execution_count": 94
        },
        {
          "output_type": "display_data",
          "data": {
            "text/plain": [
              "<Figure size 720x432 with 1 Axes>"
            ],
            "image/png": "[encoded data removed]"
          },
          "metadata": {
            "needs_background": "light"
          }
        },
        {
          "output_type": "stream",
          "name": "stdout",
          "text": [
            "time: 202 ms (started: 2022-12-07 09:39:42 +00:00)\n"
          ]
        }
      ]
    },
    {
      "cell_type": "code",
      "metadata": {
        "colab": {
          "base_uri": "https://localhost:8080/",
          "height": 409
        },
        "id": "xE7bwysHt2fm",
        "outputId": "44287bb3-204f-49e4-8c30-c0e908fc5827"
      },
      "source": [
        "plt.figure(figsize=(10,6))\n",
        "plt.scatter(y_train,train_predictions)\n",
        "plt.plot(y_train,y_train,'r')"
      ],
      "execution_count": 95,
      "outputs": [
        {
          "output_type": "execute_result",
          "data": {
            "text/plain": [
              "[<matplotlib.lines.Line2D at 0x7f3228d7aeb0>]"
            ]
          },
          "metadata": {},
          "execution_count": 95
        },
        {
          "output_type": "display_data",
          "data": {
            "text/plain": [
              "<Figure size 720x432 with 1 Axes>"
            ],
            "image/png": "[encoded data removed]"
          },
          "metadata": {
            "needs_background": "light"
          }
        },
        {
          "output_type": "stream",
          "name": "stdout",
          "text": [
            "time: 224 ms (started: 2022-12-07 09:39:42 +00:00)\n"
          ]
        }
      ]
    },
    {
      "cell_type": "code",
      "metadata": {
        "id": "jW_LBUT4NBGJ",
        "colab": {
          "base_uri": "https://localhost:8080/"
        },
        "outputId": "eec423f3-b613-446b-f154-b5df1bf96a32"
      },
      "source": [
        "from sklearn.metrics import mean_absolute_error,mean_squared_error\n",
        "mean_absolute_error(y_Test,test_predictions)"
      ],
      "execution_count": 96,
      "outputs": [
        {
          "output_type": "execute_result",
          "data": {
            "text/plain": [
              "0.004994728494872347"
            ]
          },
          "metadata": {},
          "execution_count": 96
        },
        {
          "output_type": "stream",
          "name": "stdout",
          "text": [
            "time: 6.99 ms (started: 2022-12-07 09:39:42 +00:00)\n"
          ]
        }
      ]
    },
    {
      "cell_type": "code",
      "metadata": {
        "id": "Ev7mLqTnNHHC",
        "colab": {
          "base_uri": "https://localhost:8080/"
        },
        "outputId": "72d0f03a-574a-4066-8cb5-cb8cb8159f47"
      },
      "source": [
        "np.sqrt(mean_squared_error(y_Test,test_predictions))*100"
      ],
      "execution_count": 97,
      "outputs": [
        {
          "output_type": "execute_result",
          "data": {
            "text/plain": [
              "0.8716796852476313"
            ]
          },
          "metadata": {},
          "execution_count": 97
        },
        {
          "output_type": "stream",
          "name": "stdout",
          "text": [
            "time: 7.23 ms (started: 2022-12-07 09:39:42 +00:00)\n"
          ]
        }
      ]
    },
    {
      "cell_type": "code",
      "metadata": {
        "id": "N-hiwaj3NNzr",
        "colab": {
          "base_uri": "https://localhost:8080/"
        },
        "outputId": "51a58467-0549-418a-b40a-43ce6e7bc9dd"
      },
      "source": [
        "from sklearn.metrics import explained_variance_score\n",
        "explained_variance_score(y_Test,test_predictions)"
      ],
      "execution_count": 98,
      "outputs": [
        {
          "output_type": "execute_result",
          "data": {
            "text/plain": [
              "0.9850862842602587"
            ]
          },
          "metadata": {},
          "execution_count": 98
        },
        {
          "output_type": "stream",
          "name": "stdout",
          "text": [
            "time: 9.06 ms (started: 2022-12-07 09:39:43 +00:00)\n"
          ]
        }
      ]
    },
    {
      "cell_type": "code",
      "metadata": {
        "colab": {
          "base_uri": "https://localhost:8080/",
          "height": 441
        },
        "id": "qsXF5gh70-pR",
        "outputId": "62117633-ca2b-45d8-acce-3c41273d55c2"
      },
      "source": [
        "testdf=pd.read_excel('Forced_testdata_lbt_86.03.xlsx')\n",
        "testdf"
      ],
      "execution_count": 99,
      "outputs": [
        {
          "output_type": "execute_result",
          "data": {
            "text/plain": [
              "         L   B     T    t\n",
              "0    86.03  20  3.98    0\n",
              "1    86.03  20  3.98    1\n",
              "2    86.03  20  3.98    3\n",
              "3    86.03  20  3.98    5\n",
              "4    86.03  20  3.98    7\n",
              "..     ...  ..   ...  ...\n",
              "246  86.03  20  3.98  491\n",
              "247  86.03  20  3.98  493\n",
              "248  86.03  20  3.98  495\n",
              "249  86.03  20  3.98  497\n",
              "250  86.03  20  3.98  499\n",
              "\n",
              "[251 rows x 4 columns]"
            ],
            "text/html": [
              "\n",
              "  <div id=\"df-109cb17c-9f12-4881-a90e-6fe457c92611\">\n",
              "    <div class=\"colab-df-container\">\n",
              "      <div>\n",
              "<style scoped>\n",
              "    .dataframe tbody tr th:only-of-type {\n",
              "        vertical-align: middle;\n",
              "    }\n",
              "\n",
              "    .dataframe tbody tr th {\n",
              "        vertical-align: top;\n",
              "    }\n",
              "\n",
              "    .dataframe thead th {\n",
              "        text-align: right;\n",
              "    }\n",
              "</style>\n",
              "<table border=\"1\" class=\"dataframe\">\n",
              "  <thead>\n",
              "    <tr style=\"text-align: right;\">\n",
              "      <th></th>\n",
              "      <th>L</th>\n",
              "      <th>B</th>\n",
              "      <th>T</th>\n",
              "      <th>t</th>\n",
              "    </tr>\n",
              "  </thead>\n",
              "  <tbody>\n",
              "    <tr>\n",
              "      <th>0</th>\n",
              "      <td>86.03</td>\n",
              "      <td>20</td>\n",
              "      <td>3.98</td>\n",
              "      <td>0</td>\n",
              "    </tr>\n",
              "    <tr>\n",
              "      <th>1</th>\n",
              "      <td>86.03</td>\n",
              "      <td>20</td>\n",
              "      <td>3.98</td>\n",
              "      <td>1</td>\n",
              "    </tr>\n",
              "    <tr>\n",
              "      <th>2</th>\n",
              "      <td>86.03</td>\n",
              "      <td>20</td>\n",
              "      <td>3.98</td>\n",
              "      <td>3</td>\n",
              "    </tr>\n",
              "    <tr>\n",
              "      <th>3</th>\n",
              "      <td>86.03</td>\n",
              "      <td>20</td>\n",
              "      <td>3.98</td>\n",
              "      <td>5</td>\n",
              "    </tr>\n",
              "    <tr>\n",
              "      <th>4</th>\n",
              "      <td>86.03</td>\n",
              "      <td>20</td>\n",
              "      <td>3.98</td>\n",
              "      <td>7</td>\n",
              "    </tr>\n",
              "    <tr>\n",
              "      <th>...</th>\n",
              "      <td>...</td>\n",
              "      <td>...</td>\n",
              "      <td>...</td>\n",
              "      <td>...</td>\n",
              "    </tr>\n",
              "    <tr>\n",
              "      <th>246</th>\n",
              "      <td>86.03</td>\n",
              "      <td>20</td>\n",
              "      <td>3.98</td>\n",
              "      <td>491</td>\n",
              "    </tr>\n",
              "    <tr>\n",
              "      <th>247</th>\n",
              "      <td>86.03</td>\n",
              "      <td>20</td>\n",
              "      <td>3.98</td>\n",
              "      <td>493</td>\n",
              "    </tr>\n",
              "    <tr>\n",
              "      <th>248</th>\n",
              "      <td>86.03</td>\n",
              "      <td>20</td>\n",
              "      <td>3.98</td>\n",
              "      <td>495</td>\n",
              "    </tr>\n",
              "    <tr>\n",
              "      <th>249</th>\n",
              "      <td>86.03</td>\n",
              "      <td>20</td>\n",
              "      <td>3.98</td>\n",
              "      <td>497</td>\n",
              "    </tr>\n",
              "    <tr>\n",
              "      <th>250</th>\n",
              "      <td>86.03</td>\n",
              "      <td>20</td>\n",
              "      <td>3.98</td>\n",
              "      <td>499</td>\n",
              "    </tr>\n",
              "  </tbody>\n",
              "</table>\n",
              "<p>251 rows × 4 columns</p>\n",
              "</div>\n",
              "      <button class=\"colab-df-convert\" onclick=\"convertToInteractive('df-109cb17c-9f12-4881-a90e-6fe457c92611')\"\n",
              "              title=\"Convert this dataframe to an interactive table.\"\n",
              "              style=\"display:none;\">\n",
              "        \n",
              "  <svg xmlns=\"http://www.w3.org/2000/svg\" height=\"24px\"viewBox=\"0 0 24 24\"\n",
              "       width=\"24px\">\n",
              "    <path d=\"M0 0h24v24H0V0z\" fill=\"none\"/>\n",
              "    <path d=\"M18.56 5.44l.94 2.06.94-2.06 2.06-.94-2.06-.94-.94-2.06-.94 2.06-2.06.94zm-11 1L8.5 8.5l.94-2.06 2.06-.94-2.06-.94L8.5 2.5l-.94 2.06-2.06.94zm10 10l.94 2.06.94-2.06 2.06-.94-2.06-.94-.94-2.06-.94 2.06-2.06.94z\"/><path d=\"M17.41 7.96l-1.37-1.37c-.4-.4-.92-.59-1.43-.59-.52 0-1.04.2-1.43.59L10.3 9.45l-7.72 7.72c-.78.78-.78 2.05 0 2.83L4 21.41c.39.39.9.59 1.41.59.51 0 1.02-.2 1.41-.59l7.78-7.78 2.81-2.81c.8-.78.8-2.07 0-2.86zM5.41 20L4 18.59l7.72-7.72 1.47 1.35L5.41 20z\"/>\n",
              "  </svg>\n",
              "      </button>\n",
              "      \n",
              "  <style>\n",
              "    .colab-df-container {\n",
              "      display:flex;\n",
              "      flex-wrap:wrap;\n",
              "      gap: 12px;\n",
              "    }\n",
              "\n",
              "    .colab-df-convert {\n",
              "      background-color: #E8F0FE;\n",
              "      border: none;\n",
              "      border-radius: 50%;\n",
              "      cursor: pointer;\n",
              "      display: none;\n",
              "      fill: #1967D2;\n",
              "      height: 32px;\n",
              "      padding: 0 0 0 0;\n",
              "      width: 32px;\n",
              "    }\n",
              "\n",
              "    .colab-df-convert:hover {\n",
              "      background-color: #E2EBFA;\n",
              "      box-shadow: 0px 1px 2px rgba(60, 64, 67, 0.3), 0px 1px 3px 1px rgba(60, 64, 67, 0.15);\n",
              "      fill: #174EA6;\n",
              "    }\n",
              "\n",
              "    [theme=dark] .colab-df-convert {\n",
              "      background-color: #3B4455;\n",
              "      fill: #D2E3FC;\n",
              "    }\n",
              "\n",
              "    [theme=dark] .colab-df-convert:hover {\n",
              "      background-color: #434B5C;\n",
              "      box-shadow: 0px 1px 3px 1px rgba(0, 0, 0, 0.15);\n",
              "      filter: drop-shadow(0px 1px 2px rgba(0, 0, 0, 0.3));\n",
              "      fill: #FFFFFF;\n",
              "    }\n",
              "  </style>\n",
              "\n",
              "      <script>\n",
              "        const buttonEl =\n",
              "          document.querySelector('#df-109cb17c-9f12-4881-a90e-6fe457c92611 button.colab-df-convert');\n",
              "        buttonEl.style.display =\n",
              "          google.colab.kernel.accessAllowed ? 'block' : 'none';\n",
              "\n",
              "        async function convertToInteractive(key) {\n",
              "          const element = document.querySelector('#df-109cb17c-9f12-4881-a90e-6fe457c92611');\n",
              "          const dataTable =\n",
              "            await google.colab.kernel.invokeFunction('convertToInteractive',\n",
              "                                                     [key], {});\n",
              "          if (!dataTable) return;\n",
              "\n",
              "          const docLinkHtml = 'Like what you see? Visit the ' +\n",
              "            '<a target=\"_blank\" href=https://colab.research.google.com/notebooks/data_table.ipynb>data table notebook</a>'\n",
              "            + ' to learn more about interactive tables.';\n",
              "          element.innerHTML = '';\n",
              "          dataTable['output_type'] = 'display_data';\n",
              "          await google.colab.output.renderOutput(dataTable, element);\n",
              "          const docLink = document.createElement('div');\n",
              "          docLink.innerHTML = docLinkHtml;\n",
              "          element.appendChild(docLink);\n",
              "        }\n",
              "      </script>\n",
              "    </div>\n",
              "  </div>\n",
              "  "
            ]
          },
          "metadata": {},
          "execution_count": 99
        },
        {
          "output_type": "stream",
          "name": "stdout",
          "text": [
            "time: 68.5 ms (started: 2022-12-07 09:39:43 +00:00)\n"
          ]
        }
      ]
    },
    {
      "cell_type": "code",
      "metadata": {
        "id": "V28dax6w1i9W",
        "colab": {
          "base_uri": "https://localhost:8080/"
        },
        "outputId": "e2be9a7b-5d58-44ba-a733-d65c99a5860f"
      },
      "source": [
        "testdfsca = scaler.transform(testdf)\n",
        "testdfsca"
      ],
      "execution_count": 100,
      "outputs": [
        {
          "output_type": "stream",
          "name": "stderr",
          "text": [
            "/usr/local/lib/python3.8/dist-packages/sklearn/base.py:443: UserWarning: X has feature names, but MinMaxScaler was fitted without feature names\n",
            "  warnings.warn(\n"
          ]
        },
        {
          "output_type": "execute_result",
          "data": {
            "text/plain": [
              "array([[0.42795819, 0.34815419, 0.44556429, 0.        ],\n",
              "       [0.42795819, 0.34815419, 0.44556429, 0.00200401],\n",
              "       [0.42795819, 0.34815419, 0.44556429, 0.00601202],\n",
              "       ...,\n",
              "       [0.42795819, 0.34815419, 0.44556429, 0.99198397],\n",
              "       [0.42795819, 0.34815419, 0.44556429, 0.99599198],\n",
              "       [0.42795819, 0.34815419, 0.44556429, 1.        ]])"
            ]
          },
          "metadata": {},
          "execution_count": 100
        },
        {
          "output_type": "stream",
          "name": "stdout",
          "text": [
            "time: 18.4 ms (started: 2022-12-07 09:39:43 +00:00)\n"
          ]
        }
      ]
    },
    {
      "cell_type": "code",
      "metadata": {
        "id": "RIh9b97i1s8V",
        "colab": {
          "base_uri": "https://localhost:8080/"
        },
        "outputId": "d02ea5cc-eba4-4d8f-f5d3-03e3b28c41b5"
      },
      "source": [
        "predicttestdf=model.predict(testdfsca)"
      ],
      "execution_count": 101,
      "outputs": [
        {
          "output_type": "stream",
          "name": "stdout",
          "text": [
            "8/8 [==============================] - 0s 3ms/step\n",
            "time: 152 ms (started: 2022-12-07 09:39:43 +00:00)\n"
          ]
        }
      ]
    },
    {
      "cell_type": "code",
      "metadata": {
        "id": "jjktq5-B2szZ",
        "colab": {
          "base_uri": "https://localhost:8080/"
        },
        "outputId": "b694f7bc-c9aa-4ffd-af0b-145781cf7fc8"
      },
      "source": [
        "predicttestdf\n"
      ],
      "execution_count": 102,
      "outputs": [
        {
          "output_type": "execute_result",
          "data": {
            "text/plain": [
              "array([[ 0.07061291],\n",
              "       [ 0.07071088],\n",
              "       [ 0.070906  ],\n",
              "       [ 0.07109285],\n",
              "       [ 0.07127104],\n",
              "       [ 0.07143776],\n",
              "       [ 0.07154767],\n",
              "       [ 0.07165758],\n",
              "       [ 0.07176389],\n",
              "       [ 0.07185638],\n",
              "       [ 0.07180358],\n",
              "       [ 0.07151167],\n",
              "       [ 0.07121974],\n",
              "       [ 0.07093042],\n",
              "       [ 0.07048783],\n",
              "       [ 0.07003649],\n",
              "       [ 0.06958631],\n",
              "       [ 0.06913612],\n",
              "       [ 0.06862538],\n",
              "       [ 0.06778026],\n",
              "       [ 0.06691396],\n",
              "       [ 0.06584718],\n",
              "       [ 0.06474774],\n",
              "       [ 0.06364832],\n",
              "       [ 0.06254888],\n",
              "       [ 0.06144945],\n",
              "       [ 0.06032104],\n",
              "       [ 0.05914824],\n",
              "       [ 0.05793969],\n",
              "       [ 0.05673113],\n",
              "       [ 0.05552311],\n",
              "       [ 0.054301  ],\n",
              "       [ 0.05300948],\n",
              "       [ 0.05162817],\n",
              "       [ 0.05023028],\n",
              "       [ 0.04876295],\n",
              "       [ 0.04707476],\n",
              "       [ 0.04530745],\n",
              "       [ 0.04354601],\n",
              "       [ 0.04174885],\n",
              "       [ 0.03985373],\n",
              "       [ 0.03794984],\n",
              "       [ 0.03601773],\n",
              "       [ 0.03402657],\n",
              "       [ 0.03200314],\n",
              "       [ 0.03010214],\n",
              "       [ 0.02827739],\n",
              "       [ 0.02645265],\n",
              "       [ 0.02435999],\n",
              "       [ 0.02221537],\n",
              "       [ 0.02000462],\n",
              "       [ 0.01785682],\n",
              "       [ 0.01576151],\n",
              "       [ 0.01357789],\n",
              "       [ 0.01130827],\n",
              "       [ 0.00895792],\n",
              "       [ 0.00680015],\n",
              "       [ 0.00471316],\n",
              "       [ 0.00263048],\n",
              "       [ 0.00064497],\n",
              "       [-0.00110252],\n",
              "       [-0.00282513],\n",
              "       [-0.00447742],\n",
              "       [-0.00659065],\n",
              "       [-0.00855974],\n",
              "       [-0.01044882],\n",
              "       [-0.01213321],\n",
              "       [-0.01375225],\n",
              "       [-0.01512633],\n",
              "       [-0.01650042],\n",
              "       [-0.01795414],\n",
              "       [-0.01940487],\n",
              "       [-0.02076742],\n",
              "       [-0.02213081],\n",
              "       [-0.02337124],\n",
              "       [-0.02472032],\n",
              "       [-0.02626079],\n",
              "       [-0.02786426],\n",
              "       [-0.02946772],\n",
              "       [-0.03103494],\n",
              "       [-0.03261906],\n",
              "       [-0.03427925],\n",
              "       [-0.03597812],\n",
              "       [-0.03766031],\n",
              "       [-0.03943477],\n",
              "       [-0.04108387],\n",
              "       [-0.04261584],\n",
              "       [-0.04414781],\n",
              "       [-0.04571062],\n",
              "       [-0.04690181],\n",
              "       [-0.04805799],\n",
              "       [-0.04915048],\n",
              "       [-0.05024069],\n",
              "       [-0.05136108],\n",
              "       [-0.05248022],\n",
              "       [-0.05374972],\n",
              "       [-0.05495261],\n",
              "       [-0.0560552 ],\n",
              "       [-0.05720905],\n",
              "       [-0.05811793],\n",
              "       [-0.05892342],\n",
              "       [-0.05975799],\n",
              "       [-0.06061615],\n",
              "       [-0.0614743 ],\n",
              "       [-0.06233246],\n",
              "       [-0.0632387 ],\n",
              "       [-0.06416325],\n",
              "       [-0.06510408],\n",
              "       [-0.0660449 ],\n",
              "       [-0.066925  ],\n",
              "       [-0.06777338],\n",
              "       [-0.06860343],\n",
              "       [-0.06918816],\n",
              "       [-0.06959848],\n",
              "       [-0.07002322],\n",
              "       [-0.07048175],\n",
              "       [-0.07094027],\n",
              "       [-0.07150476],\n",
              "       [-0.07183106],\n",
              "       [-0.07215736],\n",
              "       [-0.07248366],\n",
              "       [-0.07280995],\n",
              "       [-0.07314199],\n",
              "       [-0.07344677],\n",
              "       [-0.07342692],\n",
              "       [-0.07346404],\n",
              "       [-0.07350335],\n",
              "       [-0.0735388 ],\n",
              "       [-0.07355297],\n",
              "       [-0.07325616],\n",
              "       [-0.07286055],\n",
              "       [-0.07246494],\n",
              "       [-0.07206743],\n",
              "       [-0.07165091],\n",
              "       [-0.0712349 ],\n",
              "       [-0.0708189 ],\n",
              "       [-0.07040291],\n",
              "       [-0.06998691],\n",
              "       [-0.06955931],\n",
              "       [-0.06894486],\n",
              "       [-0.0682645 ],\n",
              "       [-0.06744352],\n",
              "       [-0.06662258],\n",
              "       [-0.06563777],\n",
              "       [-0.06445861],\n",
              "       [-0.0632437 ],\n",
              "       [-0.06191784],\n",
              "       [-0.06055976],\n",
              "       [-0.05914506],\n",
              "       [-0.05771937],\n",
              "       [-0.05631701],\n",
              "       [-0.0549059 ],\n",
              "       [-0.05353086],\n",
              "       [-0.05224948],\n",
              "       [-0.05093872],\n",
              "       [-0.04957882],\n",
              "       [-0.04815547],\n",
              "       [-0.04668079],\n",
              "       [-0.04525131],\n",
              "       [-0.04367141],\n",
              "       [-0.04204718],\n",
              "       [-0.04030365],\n",
              "       [-0.03848208],\n",
              "       [-0.03664863],\n",
              "       [-0.03474703],\n",
              "       [-0.03303057],\n",
              "       [-0.03136514],\n",
              "       [-0.0296328 ],\n",
              "       [-0.0278418 ],\n",
              "       [-0.02607816],\n",
              "       [-0.02431475],\n",
              "       [-0.02255215],\n",
              "       [-0.02088233],\n",
              "       [-0.01907355],\n",
              "       [-0.01719547],\n",
              "       [-0.01533139],\n",
              "       [-0.01351958],\n",
              "       [-0.01163024],\n",
              "       [-0.00968342],\n",
              "       [-0.00786929],\n",
              "       [-0.00605299],\n",
              "       [-0.00422559],\n",
              "       [-0.00233683],\n",
              "       [-0.00051461],\n",
              "       [ 0.00128184],\n",
              "       [ 0.00302236],\n",
              "       [ 0.00464892],\n",
              "       [ 0.00624462],\n",
              "       [ 0.00793405],\n",
              "       [ 0.00971241],\n",
              "       [ 0.011447  ],\n",
              "       [ 0.01312732],\n",
              "       [ 0.01480767],\n",
              "       [ 0.01649591],\n",
              "       [ 0.01820554],\n",
              "       [ 0.02000438],\n",
              "       [ 0.02171789],\n",
              "       [ 0.02346653],\n",
              "       [ 0.02523303],\n",
              "       [ 0.02705795],\n",
              "       [ 0.02899706],\n",
              "       [ 0.03090077],\n",
              "       [ 0.03267888],\n",
              "       [ 0.03450347],\n",
              "       [ 0.03629646],\n",
              "       [ 0.03815507],\n",
              "       [ 0.04002614],\n",
              "       [ 0.04178284],\n",
              "       [ 0.04336556],\n",
              "       [ 0.04494642],\n",
              "       [ 0.04652268],\n",
              "       [ 0.04809893],\n",
              "       [ 0.0496752 ],\n",
              "       [ 0.05125144],\n",
              "       [ 0.05282769],\n",
              "       [ 0.05440396],\n",
              "       [ 0.0559802 ],\n",
              "       [ 0.05755645],\n",
              "       [ 0.05913271],\n",
              "       [ 0.06070337],\n",
              "       [ 0.06227062],\n",
              "       [ 0.06387434],\n",
              "       [ 0.06545047],\n",
              "       [ 0.06670493],\n",
              "       [ 0.06763034],\n",
              "       [ 0.06838763],\n",
              "       [ 0.06914491],\n",
              "       [ 0.06989262],\n",
              "       [ 0.07062301],\n",
              "       [ 0.0713625 ],\n",
              "       [ 0.07210197],\n",
              "       [ 0.0728378 ],\n",
              "       [ 0.0735478 ],\n",
              "       [ 0.07425779],\n",
              "       [ 0.07488723],\n",
              "       [ 0.07541303],\n",
              "       [ 0.0759085 ],\n",
              "       [ 0.07639012],\n",
              "       [ 0.07687148],\n",
              "       [ 0.07727505],\n",
              "       [ 0.07767762],\n",
              "       [ 0.07797863],\n",
              "       [ 0.07822868],\n",
              "       [ 0.07847875],\n",
              "       [ 0.07872882],\n",
              "       [ 0.07897061],\n",
              "       [ 0.07919355],\n",
              "       [ 0.0794165 ],\n",
              "       [ 0.07963945],\n",
              "       [ 0.07986239],\n",
              "       [ 0.08008568]], dtype=float32)"
            ]
          },
          "metadata": {},
          "execution_count": 102
        },
        {
          "output_type": "stream",
          "name": "stdout",
          "text": [
            "time: 14 ms (started: 2022-12-07 09:39:43 +00:00)\n"
          ]
        }
      ]
    },
    {
      "cell_type": "code",
      "metadata": {
        "id": "dl50RnMY3YM5",
        "colab": {
          "base_uri": "https://localhost:8080/",
          "height": 441
        },
        "outputId": "a7c7b281-b114-4376-b35c-332bf81c1bdb"
      },
      "source": [
        "zreal=pd.read_excel('forced_z86.03.xlsx')\n",
        "zreal"
      ],
      "execution_count": 105,
      "outputs": [
        {
          "output_type": "execute_result",
          "data": {
            "text/plain": [
              "            z\n",
              "0    0.000000\n",
              "1    0.066803\n",
              "2    0.066762\n",
              "3    0.066678\n",
              "4    0.066553\n",
              "..        ...\n",
              "246  0.066066\n",
              "247  0.066293\n",
              "248  0.066480\n",
              "249  0.066624\n",
              "250  0.066727\n",
              "\n",
              "[251 rows x 1 columns]"
            ],
            "text/html": [
              "\n",
              "  <div id=\"df-29c50f16-134f-497a-b096-856c44b26a02\">\n",
              "    <div class=\"colab-df-container\">\n",
              "      <div>\n",
              "<style scoped>\n",
              "    .dataframe tbody tr th:only-of-type {\n",
              "        vertical-align: middle;\n",
              "    }\n",
              "\n",
              "    .dataframe tbody tr th {\n",
              "        vertical-align: top;\n",
              "    }\n",
              "\n",
              "    .dataframe thead th {\n",
              "        text-align: right;\n",
              "    }\n",
              "</style>\n",
              "<table border=\"1\" class=\"dataframe\">\n",
              "  <thead>\n",
              "    <tr style=\"text-align: right;\">\n",
              "      <th></th>\n",
              "      <th>z</th>\n",
              "    </tr>\n",
              "  </thead>\n",
              "  <tbody>\n",
              "    <tr>\n",
              "      <th>0</th>\n",
              "      <td>0.000000</td>\n",
              "    </tr>\n",
              "    <tr>\n",
              "      <th>1</th>\n",
              "      <td>0.066803</td>\n",
              "    </tr>\n",
              "    <tr>\n",
              "      <th>2</th>\n",
              "      <td>0.066762</td>\n",
              "    </tr>\n",
              "    <tr>\n",
              "      <th>3</th>\n",
              "      <td>0.066678</td>\n",
              "    </tr>\n",
              "    <tr>\n",
              "      <th>4</th>\n",
              "      <td>0.066553</td>\n",
              "    </tr>\n",
              "    <tr>\n",
              "      <th>...</th>\n",
              "      <td>...</td>\n",
              "    </tr>\n",
              "    <tr>\n",
              "      <th>246</th>\n",
              "      <td>0.066066</td>\n",
              "    </tr>\n",
              "    <tr>\n",
              "      <th>247</th>\n",
              "      <td>0.066293</td>\n",
              "    </tr>\n",
              "    <tr>\n",
              "      <th>248</th>\n",
              "      <td>0.066480</td>\n",
              "    </tr>\n",
              "    <tr>\n",
              "      <th>249</th>\n",
              "      <td>0.066624</td>\n",
              "    </tr>\n",
              "    <tr>\n",
              "      <th>250</th>\n",
              "      <td>0.066727</td>\n",
              "    </tr>\n",
              "  </tbody>\n",
              "</table>\n",
              "<p>251 rows × 1 columns</p>\n",
              "</div>\n",
              "      <button class=\"colab-df-convert\" onclick=\"convertToInteractive('df-29c50f16-134f-497a-b096-856c44b26a02')\"\n",
              "              title=\"Convert this dataframe to an interactive table.\"\n",
              "              style=\"display:none;\">\n",
              "        \n",
              "  <svg xmlns=\"http://www.w3.org/2000/svg\" height=\"24px\"viewBox=\"0 0 24 24\"\n",
              "       width=\"24px\">\n",
              "    <path d=\"M0 0h24v24H0V0z\" fill=\"none\"/>\n",
              "    <path d=\"M18.56 5.44l.94 2.06.94-2.06 2.06-.94-2.06-.94-.94-2.06-.94 2.06-2.06.94zm-11 1L8.5 8.5l.94-2.06 2.06-.94-2.06-.94L8.5 2.5l-.94 2.06-2.06.94zm10 10l.94 2.06.94-2.06 2.06-.94-2.06-.94-.94-2.06-.94 2.06-2.06.94z\"/><path d=\"M17.41 7.96l-1.37-1.37c-.4-.4-.92-.59-1.43-.59-.52 0-1.04.2-1.43.59L10.3 9.45l-7.72 7.72c-.78.78-.78 2.05 0 2.83L4 21.41c.39.39.9.59 1.41.59.51 0 1.02-.2 1.41-.59l7.78-7.78 2.81-2.81c.8-.78.8-2.07 0-2.86zM5.41 20L4 18.59l7.72-7.72 1.47 1.35L5.41 20z\"/>\n",
              "  </svg>\n",
              "      </button>\n",
              "      \n",
              "  <style>\n",
              "    .colab-df-container {\n",
              "      display:flex;\n",
              "      flex-wrap:wrap;\n",
              "      gap: 12px;\n",
              "    }\n",
              "\n",
              "    .colab-df-convert {\n",
              "      background-color: #E8F0FE;\n",
              "      border: none;\n",
              "      border-radius: 50%;\n",
              "      cursor: pointer;\n",
              "      display: none;\n",
              "      fill: #1967D2;\n",
              "      height: 32px;\n",
              "      padding: 0 0 0 0;\n",
              "      width: 32px;\n",
              "    }\n",
              "\n",
              "    .colab-df-convert:hover {\n",
              "      background-color: #E2EBFA;\n",
              "      box-shadow: 0px 1px 2px rgba(60, 64, 67, 0.3), 0px 1px 3px 1px rgba(60, 64, 67, 0.15);\n",
              "      fill: #174EA6;\n",
              "    }\n",
              "\n",
              "    [theme=dark] .colab-df-convert {\n",
              "      background-color: #3B4455;\n",
              "      fill: #D2E3FC;\n",
              "    }\n",
              "\n",
              "    [theme=dark] .colab-df-convert:hover {\n",
              "      background-color: #434B5C;\n",
              "      box-shadow: 0px 1px 3px 1px rgba(0, 0, 0, 0.15);\n",
              "      filter: drop-shadow(0px 1px 2px rgba(0, 0, 0, 0.3));\n",
              "      fill: #FFFFFF;\n",
              "    }\n",
              "  </style>\n",
              "\n",
              "      <script>\n",
              "        const buttonEl =\n",
              "          document.querySelector('#df-29c50f16-134f-497a-b096-856c44b26a02 button.colab-df-convert');\n",
              "        buttonEl.style.display =\n",
              "          google.colab.kernel.accessAllowed ? 'block' : 'none';\n",
              "\n",
              "        async function convertToInteractive(key) {\n",
              "          const element = document.querySelector('#df-29c50f16-134f-497a-b096-856c44b26a02');\n",
              "          const dataTable =\n",
              "            await google.colab.kernel.invokeFunction('convertToInteractive',\n",
              "                                                     [key], {});\n",
              "          if (!dataTable) return;\n",
              "\n",
              "          const docLinkHtml = 'Like what you see? Visit the ' +\n",
              "            '<a target=\"_blank\" href=https://colab.research.google.com/notebooks/data_table.ipynb>data table notebook</a>'\n",
              "            + ' to learn more about interactive tables.';\n",
              "          element.innerHTML = '';\n",
              "          dataTable['output_type'] = 'display_data';\n",
              "          await google.colab.output.renderOutput(dataTable, element);\n",
              "          const docLink = document.createElement('div');\n",
              "          docLink.innerHTML = docLinkHtml;\n",
              "          element.appendChild(docLink);\n",
              "        }\n",
              "      </script>\n",
              "    </div>\n",
              "  </div>\n",
              "  "
            ]
          },
          "metadata": {},
          "execution_count": 105
        },
        {
          "output_type": "stream",
          "name": "stdout",
          "text": [
            "time: 159 ms (started: 2022-12-07 09:47:13 +00:00)\n"
          ]
        }
      ]
    },
    {
      "cell_type": "code",
      "metadata": {
        "id": "gh2F8dML14An",
        "colab": {
          "base_uri": "https://localhost:8080/",
          "height": 367
        },
        "outputId": "4e4ad026-4ea9-4b12-839c-5b48d62fed27"
      },
      "source": [
        "fig=plt.figure (figsize = (14,5))\n",
        "plt.plot(zreal, color = 'blue', label = 'Cases Actual')\n",
        "plt.plot(predicttestdf,color = 'red', label = 'Prediction')\n",
        "plt.title('Prediction Barge')\n",
        "plt.xlabel('time (s)')\n",
        "plt.ylabel('Heaving Displacement (m)')\n",
        "plt.legend()\n",
        "plt.show()\n",
        "fig.savefig('1.png')"
      ],
      "execution_count": 106,
      "outputs": [
        {
          "output_type": "display_data",
          "data": {
            "text/plain": [
              "<Figure size 1008x360 with 1 Axes>"
            ],
            "image/png": "[encoded data removed]"
          },
          "metadata": {
            "needs_background": "light"
          }
        },
        {
          "output_type": "stream",
          "name": "stdout",
          "text": [
            "time: 305 ms (started: 2022-12-07 09:47:18 +00:00)\n"
          ]
        }
      ]
    }
  ]
}