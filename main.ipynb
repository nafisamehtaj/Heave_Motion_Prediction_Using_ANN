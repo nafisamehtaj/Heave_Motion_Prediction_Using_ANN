{
  "nbformat": 4,
  "nbformat_minor": 0,
  "metadata": {
    "colab": {
      "provenance": []
    },
    "kernelspec": {
      "name": "python3",
      "display_name": "Python 3"
    }
  },
  "cells": [
    {
      "cell_type": "code",
      "metadata": {
        "id": "oA7KOPBwAdG5",
        "colab": {
          "base_uri": "https://localhost:8080/"
        },
        "outputId": "c1795683-bc93-42ac-89cf-a1eba967fb7d"
      },
      "source": [
        "#load libraries\n",
        "import pandas as pd\n",
        "import numpy as np\n",
        "import matplotlib.pyplot as plt\n",
        "import seaborn as sns"
      ],
      "execution_count": null,
      "outputs": [
        {
          "output_type": "stream",
          "text": [
            "time: 2.4 ms (started: 2021-03-18 07:46:04 +00:00)\n"
          ],
          "name": "stdout"
        }
      ]
    },
    {
      "cell_type": "code",
      "metadata": {
        "colab": {
          "base_uri": "https://localhost:8080/"
        },
        "id": "AA8-7Utoe8ZW",
        "outputId": "1a6c9a41-102b-49ba-a533-990efb09e9b7"
      },
      "source": [
        "!pip install ipython-autotime\n",
        "\n",
        "%load_ext autotime"
      ],
      "execution_count": null,
      "outputs": [
        {
          "output_type": "stream",
          "text": [
            "Requirement already satisfied: ipython-autotime in /usr/local/lib/python3.7/dist-packages (0.3.1)\n",
            "Requirement already satisfied: ipython in /usr/local/lib/python3.7/dist-packages (from ipython-autotime) (5.5.0)\n",
            "Requirement already satisfied: pickleshare in /usr/local/lib/python3.7/dist-packages (from ipython->ipython-autotime) (0.7.5)\n",
            "Requirement already satisfied: pygments in /usr/local/lib/python3.7/dist-packages (from ipython->ipython-autotime) (2.6.1)\n",
            "Requirement already satisfied: setuptools>=18.5 in /usr/local/lib/python3.7/dist-packages (from ipython->ipython-autotime) (54.0.0)\n",
            "Requirement already satisfied: pexpect; sys_platform != \"win32\" in /usr/local/lib/python3.7/dist-packages (from ipython->ipython-autotime) (4.8.0)\n",
            "Requirement already satisfied: decorator in /usr/local/lib/python3.7/dist-packages (from ipython->ipython-autotime) (4.4.2)\n",
            "Requirement already satisfied: traitlets>=4.2 in /usr/local/lib/python3.7/dist-packages (from ipython->ipython-autotime) (5.0.5)\n",
            "Requirement already satisfied: prompt-toolkit<2.0.0,>=1.0.4 in /usr/local/lib/python3.7/dist-packages (from ipython->ipython-autotime) (1.0.18)\n",
            "Requirement already satisfied: simplegeneric>0.8 in /usr/local/lib/python3.7/dist-packages (from ipython->ipython-autotime) (0.8.1)\n",
            "Requirement already satisfied: ptyprocess>=0.5 in /usr/local/lib/python3.7/dist-packages (from pexpect; sys_platform != \"win32\"->ipython->ipython-autotime) (0.7.0)\n",
            "Requirement already satisfied: ipython-genutils in /usr/local/lib/python3.7/dist-packages (from traitlets>=4.2->ipython->ipython-autotime) (0.2.0)\n",
            "Requirement already satisfied: wcwidth in /usr/local/lib/python3.7/dist-packages (from prompt-toolkit<2.0.0,>=1.0.4->ipython->ipython-autotime) (0.2.5)\n",
            "Requirement already satisfied: six>=1.9.0 in /usr/local/lib/python3.7/dist-packages (from prompt-toolkit<2.0.0,>=1.0.4->ipython->ipython-autotime) (1.15.0)\n",
            "The autotime extension is already loaded. To reload it, use:\n",
            "  %reload_ext autotime\n",
            "time: 2.95 s (started: 2021-03-18 07:46:06 +00:00)\n"
          ],
          "name": "stdout"
        }
      ]
    },
    {
      "cell_type": "code",
      "metadata": {
        "id": "zn9CnQrPBeJ4",
        "colab": {
          "base_uri": "https://localhost:8080/",
          "height": 245
        },
        "outputId": "da2035b1-5b50-4065-e97b-ed0fa464cac4"
      },
      "source": [
        "# load dataset\n",
        "df = pd.read_excel(\"Force Dataset.xlsx\")\n",
        "df.tail()"
      ],
      "execution_count": null,
      "outputs": [
        {
          "output_type": "execute_result",
          "data": {
            "text/html": [
              "<div>\n",
              "<style scoped>\n",
              "    .dataframe tbody tr th:only-of-type {\n",
              "        vertical-align: middle;\n",
              "    }\n",
              "\n",
              "    .dataframe tbody tr th {\n",
              "        vertical-align: top;\n",
              "    }\n",
              "\n",
              "    .dataframe thead th {\n",
              "        text-align: right;\n",
              "    }\n",
              "</style>\n",
              "<table border=\"1\" class=\"dataframe\">\n",
              "  <thead>\n",
              "    <tr style=\"text-align: right;\">\n",
              "      <th></th>\n",
              "      <th>Displacement</th>\n",
              "      <th>L</th>\n",
              "      <th>B</th>\n",
              "      <th>T</th>\n",
              "      <th>a</th>\n",
              "      <th>b</th>\n",
              "      <th>c</th>\n",
              "      <th>FORCE</th>\n",
              "      <th>time</th>\n",
              "      <th>z</th>\n",
              "      <th>v</th>\n",
              "    </tr>\n",
              "  </thead>\n",
              "  <tbody>\n",
              "    <tr>\n",
              "      <th>8529</th>\n",
              "      <td>11110.0</td>\n",
              "      <td>112.192121</td>\n",
              "      <td>27.940567</td>\n",
              "      <td>5.115273</td>\n",
              "      <td>25494.245033</td>\n",
              "      <td>23120.240497</td>\n",
              "      <td>31641.777057</td>\n",
              "      <td>6063.078356</td>\n",
              "      <td>491</td>\n",
              "      <td>0.120338</td>\n",
              "      <td>0.148511</td>\n",
              "    </tr>\n",
              "    <tr>\n",
              "      <th>8530</th>\n",
              "      <td>11110.0</td>\n",
              "      <td>112.192121</td>\n",
              "      <td>27.940567</td>\n",
              "      <td>5.115273</td>\n",
              "      <td>25494.245033</td>\n",
              "      <td>23120.240497</td>\n",
              "      <td>31641.777057</td>\n",
              "      <td>6063.078356</td>\n",
              "      <td>493</td>\n",
              "      <td>0.120753</td>\n",
              "      <td>0.149022</td>\n",
              "    </tr>\n",
              "    <tr>\n",
              "      <th>8531</th>\n",
              "      <td>11110.0</td>\n",
              "      <td>112.192121</td>\n",
              "      <td>27.940567</td>\n",
              "      <td>5.115273</td>\n",
              "      <td>25494.245033</td>\n",
              "      <td>23120.240497</td>\n",
              "      <td>31641.777057</td>\n",
              "      <td>6063.078356</td>\n",
              "      <td>495</td>\n",
              "      <td>0.121092</td>\n",
              "      <td>0.149441</td>\n",
              "    </tr>\n",
              "    <tr>\n",
              "      <th>8532</th>\n",
              "      <td>11110.0</td>\n",
              "      <td>112.192121</td>\n",
              "      <td>27.940567</td>\n",
              "      <td>5.115273</td>\n",
              "      <td>25494.245033</td>\n",
              "      <td>23120.240497</td>\n",
              "      <td>31641.777057</td>\n",
              "      <td>6063.078356</td>\n",
              "      <td>497</td>\n",
              "      <td>0.121355</td>\n",
              "      <td>0.149766</td>\n",
              "    </tr>\n",
              "    <tr>\n",
              "      <th>8533</th>\n",
              "      <td>11110.0</td>\n",
              "      <td>112.192121</td>\n",
              "      <td>27.940567</td>\n",
              "      <td>5.115273</td>\n",
              "      <td>25494.245033</td>\n",
              "      <td>23120.240497</td>\n",
              "      <td>31641.777057</td>\n",
              "      <td>6063.078356</td>\n",
              "      <td>499</td>\n",
              "      <td>0.121543</td>\n",
              "      <td>0.149998</td>\n",
              "    </tr>\n",
              "  </tbody>\n",
              "</table>\n",
              "</div>"
            ],
            "text/plain": [
              "      Displacement           L          B  ...  time         z         v\n",
              "8529       11110.0  112.192121  27.940567  ...   491  0.120338  0.148511\n",
              "8530       11110.0  112.192121  27.940567  ...   493  0.120753  0.149022\n",
              "8531       11110.0  112.192121  27.940567  ...   495  0.121092  0.149441\n",
              "8532       11110.0  112.192121  27.940567  ...   497  0.121355  0.149766\n",
              "8533       11110.0  112.192121  27.940567  ...   499  0.121543  0.149998\n",
              "\n",
              "[5 rows x 11 columns]"
            ]
          },
          "metadata": {
            "tags": []
          },
          "execution_count": 5
        },
        {
          "output_type": "stream",
          "text": [
            "time: 953 ms (started: 2021-03-18 07:46:09 +00:00)\n"
          ],
          "name": "stdout"
        }
      ]
    },
    {
      "cell_type": "code",
      "metadata": {
        "id": "eajZAiS9BpTr",
        "colab": {
          "base_uri": "https://localhost:8080/"
        },
        "outputId": "35cda476-ed3c-4e9a-b77d-bcc8352119c4"
      },
      "source": [
        "df.isnull().sum() #no missing data"
      ],
      "execution_count": null,
      "outputs": [
        {
          "output_type": "execute_result",
          "data": {
            "text/plain": [
              "Displacement    0\n",
              "L               0\n",
              "B               0\n",
              "T               0\n",
              "a               0\n",
              "b               0\n",
              "c               0\n",
              "FORCE           0\n",
              "time            0\n",
              "z               0\n",
              "v               0\n",
              "dtype: int64"
            ]
          },
          "metadata": {
            "tags": []
          },
          "execution_count": 6
        },
        {
          "output_type": "stream",
          "text": [
            "time: 8.37 ms (started: 2021-03-18 07:46:10 +00:00)\n"
          ],
          "name": "stdout"
        }
      ]
    },
    {
      "cell_type": "code",
      "metadata": {
        "id": "sKsC1I5eB4QR",
        "colab": {
          "base_uri": "https://localhost:8080/"
        },
        "outputId": "6d5301c0-aa13-4308-c9cd-f928566ba17c"
      },
      "source": [
        "#training the model\n",
        "X = df[['L','B','T','time']].values\n",
        "y = df[['z']].values"
      ],
      "execution_count": null,
      "outputs": [
        {
          "output_type": "stream",
          "text": [
            "time: 6.02 ms (started: 2021-03-18 07:46:10 +00:00)\n"
          ],
          "name": "stdout"
        }
      ]
    },
    {
      "cell_type": "code",
      "metadata": {
        "id": "gHnYGzagDoYd",
        "colab": {
          "base_uri": "https://localhost:8080/"
        },
        "outputId": "f4255b84-7a31-40bd-84b4-22d29583318f"
      },
      "source": [
        "np.random.seed(42)"
      ],
      "execution_count": null,
      "outputs": [
        {
          "output_type": "stream",
          "text": [
            "time: 3.6 ms (started: 2021-03-18 07:46:10 +00:00)\n"
          ],
          "name": "stdout"
        }
      ]
    },
    {
      "cell_type": "code",
      "metadata": {
        "id": "cIXX-1dODs5d",
        "colab": {
          "base_uri": "https://localhost:8080/"
        },
        "outputId": "2acfde96-f982-4d37-c186-f58323a52e7c"
      },
      "source": [
        "from sklearn.model_selection import train_test_split\n",
        "X_train, X_test, y_train, y_Test = train_test_split(X,y,test_size=0.2,random_state=42)"
      ],
      "execution_count": null,
      "outputs": [
        {
          "output_type": "stream",
          "text": [
            "time: 256 ms (started: 2021-03-18 07:46:10 +00:00)\n"
          ],
          "name": "stdout"
        }
      ]
    },
    {
      "cell_type": "code",
      "metadata": {
        "id": "DQQSAkSVEBgy",
        "colab": {
          "base_uri": "https://localhost:8080/"
        },
        "outputId": "0233dd32-2cca-48df-cc6d-24edb71bb167"
      },
      "source": [
        "from sklearn.preprocessing import MinMaxScaler\n",
        "scaler = MinMaxScaler()"
      ],
      "execution_count": null,
      "outputs": [
        {
          "output_type": "stream",
          "text": [
            "time: 2.53 ms (started: 2021-03-18 07:46:10 +00:00)\n"
          ],
          "name": "stdout"
        }
      ]
    },
    {
      "cell_type": "code",
      "metadata": {
        "id": "f6R3VxCSEIA8",
        "colab": {
          "base_uri": "https://localhost:8080/"
        },
        "outputId": "5d00413d-a2af-4b87-b1b3-d3a4535425fc"
      },
      "source": [
        "scaler.fit(X_train)\n",
        "X_train = scaler.transform(X_train)\n",
        "X_test = scaler.transform(X_test)"
      ],
      "execution_count": null,
      "outputs": [
        {
          "output_type": "stream",
          "text": [
            "time: 6.34 ms (started: 2021-03-18 07:46:10 +00:00)\n"
          ],
          "name": "stdout"
        }
      ]
    },
    {
      "cell_type": "code",
      "metadata": {
        "id": "jxu86H_WEPjf",
        "colab": {
          "base_uri": "https://localhost:8080/"
        },
        "outputId": "dd270c9b-6a44-4035-c0a4-b0ef7df22f94"
      },
      "source": [
        "from tensorflow.keras.models import Sequential\n",
        "from tensorflow.keras.layers import Dense"
      ],
      "execution_count": null,
      "outputs": [
        {
          "output_type": "stream",
          "text": [
            "time: 1.79 s (started: 2021-03-18 07:46:10 +00:00)\n"
          ],
          "name": "stdout"
        }
      ]
    },
    {
      "cell_type": "code",
      "metadata": {
        "id": "M6MZ3CHRERdi",
        "colab": {
          "base_uri": "https://localhost:8080/"
        },
        "outputId": "4c8471a2-44b6-41ad-c13b-877895f696f2"
      },
      "source": [
        "model = Sequential()\n",
        "model.add(Dense(400,activation='relu'))\n",
        "model.add(Dense(400,activation='relu'))\n",
        "model.add(Dense(400,activation='relu'))\n",
        "model.add(Dense(1))\n",
        "model.compile(optimizer='rmsprop',loss='mse')\n",
        "model.fit(X_train,y_train,batch_size=32,epochs=20)"
      ],
      "execution_count": null,
      "outputs": [
        {
          "output_type": "stream",
          "text": [
            "Epoch 1/20\n",
            "214/214 [==============================] - 2s 7ms/step - loss: 0.0123\n",
            "Epoch 2/20\n",
            "214/214 [==============================] - 2s 7ms/step - loss: 5.2164e-04\n",
            "Epoch 3/20\n",
            "214/214 [==============================] - 1s 7ms/step - loss: 3.5788e-04\n",
            "Epoch 4/20\n",
            "214/214 [==============================] - 1s 7ms/step - loss: 2.2617e-04\n",
            "Epoch 5/20\n",
            "214/214 [==============================] - 2s 7ms/step - loss: 1.8110e-04\n",
            "Epoch 6/20\n",
            "214/214 [==============================] - 1s 7ms/step - loss: 2.1389e-04\n",
            "Epoch 7/20\n",
            "214/214 [==============================] - 1s 7ms/step - loss: 1.5222e-04\n",
            "Epoch 8/20\n",
            "214/214 [==============================] - 1s 7ms/step - loss: 1.2972e-04\n",
            "Epoch 9/20\n",
            "214/214 [==============================] - 2s 7ms/step - loss: 1.2255e-04\n",
            "Epoch 10/20\n",
            "214/214 [==============================] - 2s 7ms/step - loss: 1.2555e-04\n",
            "Epoch 11/20\n",
            "214/214 [==============================] - 2s 7ms/step - loss: 1.2109e-04\n",
            "Epoch 12/20\n",
            "214/214 [==============================] - 2s 7ms/step - loss: 1.2119e-04\n",
            "Epoch 13/20\n",
            "214/214 [==============================] - 2s 7ms/step - loss: 1.0774e-04\n",
            "Epoch 14/20\n",
            "214/214 [==============================] - 1s 7ms/step - loss: 8.3073e-05\n",
            "Epoch 15/20\n",
            "214/214 [==============================] - 2s 7ms/step - loss: 1.0908e-04\n",
            "Epoch 16/20\n",
            "214/214 [==============================] - 2s 7ms/step - loss: 8.4748e-05\n",
            "Epoch 17/20\n",
            "214/214 [==============================] - 1s 7ms/step - loss: 1.0390e-04\n",
            "Epoch 18/20\n",
            "214/214 [==============================] - 2s 7ms/step - loss: 9.3328e-05\n",
            "Epoch 19/20\n",
            "214/214 [==============================] - 1s 7ms/step - loss: 9.4660e-05\n",
            "Epoch 20/20\n",
            "214/214 [==============================] - 1s 7ms/step - loss: 9.7601e-05\n"
          ],
          "name": "stdout"
        },
        {
          "output_type": "execute_result",
          "data": {
            "text/plain": [
              "<tensorflow.python.keras.callbacks.History at 0x7f326d884c50>"
            ]
          },
          "metadata": {
            "tags": []
          },
          "execution_count": 13
        },
        {
          "output_type": "stream",
          "text": [
            "time: 31.7 s (started: 2021-03-18 07:46:12 +00:00)\n"
          ],
          "name": "stdout"
        }
      ]
    },
    {
      "cell_type": "code",
      "metadata": {
        "id": "D1QGS8G9I1PP",
        "colab": {
          "base_uri": "https://localhost:8080/"
        },
        "outputId": "7b2e8f2c-f139-4070-bd85-447ab977d831"
      },
      "source": [
        "#model.save('my_model.h5') "
      ],
      "execution_count": null,
      "outputs": [
        {
          "output_type": "stream",
          "text": [
            "time: 803 µs (started: 2021-03-18 07:46:43 +00:00)\n"
          ],
          "name": "stdout"
        }
      ]
    },
    {
      "cell_type": "code",
      "metadata": {
        "colab": {
          "base_uri": "https://localhost:8080/"
        },
        "id": "SyJW2or02LUk",
        "outputId": "bdd50b89-a574-4f19-c4bb-ee7628de1788"
      },
      "source": [
        "model.summary()"
      ],
      "execution_count": null,
      "outputs": [
        {
          "output_type": "stream",
          "text": [
            "Model: \"sequential\"\n",
            "_________________________________________________________________\n",
            "Layer (type)                 Output Shape              Param #   \n",
            "=================================================================\n",
            "dense (Dense)                (None, 400)               2000      \n",
            "_________________________________________________________________\n",
            "dense_1 (Dense)              (None, 400)               160400    \n",
            "_________________________________________________________________\n",
            "dense_2 (Dense)              (None, 400)               160400    \n",
            "_________________________________________________________________\n",
            "dense_3 (Dense)              (None, 1)                 401       \n",
            "=================================================================\n",
            "Total params: 323,201\n",
            "Trainable params: 323,201\n",
            "Non-trainable params: 0\n",
            "_________________________________________________________________\n",
            "time: 8.5 ms (started: 2021-03-18 07:46:43 +00:00)\n"
          ],
          "name": "stdout"
        }
      ]
    },
    {
      "cell_type": "code",
      "metadata": {
        "id": "9dYQ6c9CLdIS",
        "colab": {
          "base_uri": "https://localhost:8080/"
        },
        "outputId": "8f0a7263-4309-458c-c695-8d02b25fda42"
      },
      "source": [
        "loss_df = pd.DataFrame(model.history.history)"
      ],
      "execution_count": null,
      "outputs": [
        {
          "output_type": "stream",
          "text": [
            "time: 4.75 ms (started: 2021-03-18 07:46:43 +00:00)\n"
          ],
          "name": "stdout"
        }
      ]
    },
    {
      "cell_type": "code",
      "metadata": {
        "id": "U-3BZq6DLjoU",
        "colab": {
          "base_uri": "https://localhost:8080/",
          "height": 316
        },
        "outputId": "cd1265a3-ff15-415a-c9ed-5c7108aed610"
      },
      "source": [
        "loss_df.plot()\n",
        "plt.xlabel(\"Iteration no.\")\n",
        "plt.ylabel(\"Mean squared error\")\n",
        "#loss_df.savefig('1 rmse.png')"
      ],
      "execution_count": null,
      "outputs": [
        {
          "output_type": "execute_result",
          "data": {
            "text/plain": [
              "Text(0, 0.5, 'Mean squared error')"
            ]
          },
          "metadata": {
            "tags": []
          },
          "execution_count": 17
        },
        {
          "output_type": "display_data",
          "data": {
            "image/png": "[encoded data removed]",
            "text/plain": [
              "<Figure size 432x288 with 1 Axes>"
            ]
          },
          "metadata": {
            "tags": [],
            "needs_background": "light"
          }
        },
        {
          "output_type": "stream",
          "text": [
            "time: 279 ms (started: 2021-03-18 07:46:43 +00:00)\n"
          ],
          "name": "stdout"
        }
      ]
    },
    {
      "cell_type": "code",
      "metadata": {
        "id": "hKHzjR9VLoxP",
        "colab": {
          "base_uri": "https://localhost:8080/"
        },
        "outputId": "16446b95-c48a-429e-86fc-4abeaabe5dac"
      },
      "source": [
        "model.evaluate(X_test,y_Test)"
      ],
      "execution_count": null,
      "outputs": [
        {
          "output_type": "stream",
          "text": [
            "54/54 [==============================] - 0s 2ms/step - loss: 1.0808e-04\n"
          ],
          "name": "stdout"
        },
        {
          "output_type": "execute_result",
          "data": {
            "text/plain": [
              "0.00010807813669089228"
            ]
          },
          "metadata": {
            "tags": []
          },
          "execution_count": 18
        },
        {
          "output_type": "stream",
          "text": [
            "time: 296 ms (started: 2021-03-18 07:46:44 +00:00)\n"
          ],
          "name": "stdout"
        }
      ]
    },
    {
      "cell_type": "code",
      "metadata": {
        "id": "cDIFAjcmLwuO",
        "colab": {
          "base_uri": "https://localhost:8080/"
        },
        "outputId": "27b07e29-e7b0-4bcf-cc89-bad612ec7ba3"
      },
      "source": [
        "model.evaluate(X_train,y_train)"
      ],
      "execution_count": null,
      "outputs": [
        {
          "output_type": "stream",
          "text": [
            "214/214 [==============================] - 0s 2ms/step - loss: 9.9604e-05\n"
          ],
          "name": "stdout"
        },
        {
          "output_type": "execute_result",
          "data": {
            "text/plain": [
              "9.960371244233102e-05"
            ]
          },
          "metadata": {
            "tags": []
          },
          "execution_count": 19
        },
        {
          "output_type": "stream",
          "text": [
            "time: 526 ms (started: 2021-03-18 07:46:44 +00:00)\n"
          ],
          "name": "stdout"
        }
      ]
    },
    {
      "cell_type": "code",
      "metadata": {
        "id": "w27Ns2BauHeQ",
        "colab": {
          "base_uri": "https://localhost:8080/"
        },
        "outputId": "c1a48dcd-762a-4bdf-d485-83cc50e9f79f"
      },
      "source": [
        "train_predictions= model.predict(X_train)"
      ],
      "execution_count": null,
      "outputs": [
        {
          "output_type": "stream",
          "text": [
            "time: 502 ms (started: 2021-03-18 07:46:45 +00:00)\n"
          ],
          "name": "stdout"
        }
      ]
    },
    {
      "cell_type": "code",
      "metadata": {
        "id": "UUplEnfUL2Xc",
        "colab": {
          "base_uri": "https://localhost:8080/"
        },
        "outputId": "54d0158f-786c-4246-b539-f9dc204fa8cc"
      },
      "source": [
        "test_predictions = model.predict(X_test)"
      ],
      "execution_count": null,
      "outputs": [
        {
          "output_type": "stream",
          "text": [
            "time: 138 ms (started: 2021-03-18 07:46:45 +00:00)\n"
          ],
          "name": "stdout"
        }
      ]
    },
    {
      "cell_type": "code",
      "metadata": {
        "colab": {
          "base_uri": "https://localhost:8080/"
        },
        "id": "L1xWptVYWNVv",
        "outputId": "a9adbfe6-a1bf-472e-8842-057d8105654e"
      },
      "source": [
        "test_predictions.shape"
      ],
      "execution_count": null,
      "outputs": [
        {
          "output_type": "execute_result",
          "data": {
            "text/plain": [
              "(1707, 1)"
            ]
          },
          "metadata": {
            "tags": []
          },
          "execution_count": 22
        },
        {
          "output_type": "stream",
          "text": [
            "time: 3.51 ms (started: 2021-03-18 07:46:45 +00:00)\n"
          ],
          "name": "stdout"
        }
      ]
    },
    {
      "cell_type": "code",
      "metadata": {
        "colab": {
          "base_uri": "https://localhost:8080/"
        },
        "id": "jI2dw3I5WU4C",
        "outputId": "8460bc76-e9dd-4bc2-9964-df39b2264fd8"
      },
      "source": [
        "print(test_predictions)"
      ],
      "execution_count": null,
      "outputs": [
        {
          "output_type": "stream",
          "text": [
            "[[-0.03290673]\n",
            " [ 0.11053412]\n",
            " [ 0.11717144]\n",
            " ...\n",
            " [ 0.00898585]\n",
            " [ 0.01352906]\n",
            " [-0.04506253]]\n",
            "time: 2.29 ms (started: 2021-03-18 07:46:45 +00:00)\n"
          ],
          "name": "stdout"
        }
      ]
    },
    {
      "cell_type": "code",
      "metadata": {
        "id": "5bcPsZBvUyLC",
        "colab": {
          "base_uri": "https://localhost:8080/"
        },
        "outputId": "b3556073-e24d-4a82-b0c4-395c0d6d6606"
      },
      "source": [
        "pred_df = pd.DataFrame(y_Test,columns=['Test True z'])"
      ],
      "execution_count": null,
      "outputs": [
        {
          "output_type": "stream",
          "text": [
            "time: 2.47 ms (started: 2021-03-18 07:46:45 +00:00)\n"
          ],
          "name": "stdout"
        }
      ]
    },
    {
      "cell_type": "code",
      "metadata": {
        "id": "u0vmiZLzVKwn",
        "colab": {
          "base_uri": "https://localhost:8080/"
        },
        "outputId": "b94b80f8-4442-4ae2-8885-fd13071e0e9a"
      },
      "source": [
        "pred_df2 = pd.DataFrame(test_predictions,columns=['Test predicted z'])"
      ],
      "execution_count": null,
      "outputs": [
        {
          "output_type": "stream",
          "text": [
            "time: 2.98 ms (started: 2021-03-18 07:46:45 +00:00)\n"
          ],
          "name": "stdout"
        }
      ]
    },
    {
      "cell_type": "code",
      "metadata": {
        "colab": {
          "base_uri": "https://localhost:8080/",
          "height": 442
        },
        "id": "io1Dmy0YU6FQ",
        "outputId": "577451ec-78ec-4084-bca8-a6317f8c3fd1"
      },
      "source": [
        "pred_df = pd.concat([pred_df,pred_df2],axis=1)\n",
        "pred_df"
      ],
      "execution_count": null,
      "outputs": [
        {
          "output_type": "execute_result",
          "data": {
            "text/html": [
              "<div>\n",
              "<style scoped>\n",
              "    .dataframe tbody tr th:only-of-type {\n",
              "        vertical-align: middle;\n",
              "    }\n",
              "\n",
              "    .dataframe tbody tr th {\n",
              "        vertical-align: top;\n",
              "    }\n",
              "\n",
              "    .dataframe thead th {\n",
              "        text-align: right;\n",
              "    }\n",
              "</style>\n",
              "<table border=\"1\" class=\"dataframe\">\n",
              "  <thead>\n",
              "    <tr style=\"text-align: right;\">\n",
              "      <th></th>\n",
              "      <th>Test True z</th>\n",
              "      <th>Test predicted z</th>\n",
              "    </tr>\n",
              "  </thead>\n",
              "  <tbody>\n",
              "    <tr>\n",
              "      <th>0</th>\n",
              "      <td>-0.026371</td>\n",
              "      <td>-0.032907</td>\n",
              "    </tr>\n",
              "    <tr>\n",
              "      <th>1</th>\n",
              "      <td>0.102234</td>\n",
              "      <td>0.110534</td>\n",
              "    </tr>\n",
              "    <tr>\n",
              "      <th>2</th>\n",
              "      <td>0.121689</td>\n",
              "      <td>0.117171</td>\n",
              "    </tr>\n",
              "    <tr>\n",
              "      <th>3</th>\n",
              "      <td>-0.007470</td>\n",
              "      <td>-0.003432</td>\n",
              "    </tr>\n",
              "    <tr>\n",
              "      <th>4</th>\n",
              "      <td>-0.102224</td>\n",
              "      <td>-0.089041</td>\n",
              "    </tr>\n",
              "    <tr>\n",
              "      <th>...</th>\n",
              "      <td>...</td>\n",
              "      <td>...</td>\n",
              "    </tr>\n",
              "    <tr>\n",
              "      <th>1702</th>\n",
              "      <td>0.118405</td>\n",
              "      <td>0.115600</td>\n",
              "    </tr>\n",
              "    <tr>\n",
              "      <th>1703</th>\n",
              "      <td>0.049309</td>\n",
              "      <td>0.057413</td>\n",
              "    </tr>\n",
              "    <tr>\n",
              "      <th>1704</th>\n",
              "      <td>0.010873</td>\n",
              "      <td>0.008986</td>\n",
              "    </tr>\n",
              "    <tr>\n",
              "      <th>1705</th>\n",
              "      <td>0.006112</td>\n",
              "      <td>0.013529</td>\n",
              "    </tr>\n",
              "    <tr>\n",
              "      <th>1706</th>\n",
              "      <td>-0.059989</td>\n",
              "      <td>-0.045063</td>\n",
              "    </tr>\n",
              "  </tbody>\n",
              "</table>\n",
              "<p>1707 rows × 2 columns</p>\n",
              "</div>"
            ],
            "text/plain": [
              "      Test True z  Test predicted z\n",
              "0       -0.026371         -0.032907\n",
              "1        0.102234          0.110534\n",
              "2        0.121689          0.117171\n",
              "3       -0.007470         -0.003432\n",
              "4       -0.102224         -0.089041\n",
              "...           ...               ...\n",
              "1702     0.118405          0.115600\n",
              "1703     0.049309          0.057413\n",
              "1704     0.010873          0.008986\n",
              "1705     0.006112          0.013529\n",
              "1706    -0.059989         -0.045063\n",
              "\n",
              "[1707 rows x 2 columns]"
            ]
          },
          "metadata": {
            "tags": []
          },
          "execution_count": 26
        },
        {
          "output_type": "stream",
          "text": [
            "time: 43.6 ms (started: 2021-03-18 07:46:45 +00:00)\n"
          ],
          "name": "stdout"
        }
      ]
    },
    {
      "cell_type": "code",
      "metadata": {
        "colab": {
          "base_uri": "https://localhost:8080/",
          "height": 368
        },
        "id": "z5Ew8IsF1BsF",
        "outputId": "6087eafe-95f4-4656-ecd0-50784dbe9d87"
      },
      "source": [
        "fig=plt.figure (figsize = (14,5))\n",
        "plt.plot(y_Test, color = 'green', label = 'Cases Actual')\n",
        "plt.plot(test_predictions,color = 'red', label = 'Prediction')\n",
        "plt.title('Prediction Barge')\n",
        "plt.xlabel('time (s)')\n",
        "plt.ylabel('Heaving Displacement (m)')\n",
        "plt.legend()\n",
        "plt.show()\n",
        "fig.savefig('1.png')"
      ],
      "execution_count": null,
      "outputs": [
        {
          "output_type": "display_data",
          "data": {
            "image/png": "[encoded data removed]",
            "text/plain": [
              "<Figure size 1008x360 with 1 Axes>"
            ]
          },
          "metadata": {
            "tags": [],
            "needs_background": "light"
          }
        },
        {
          "output_type": "stream",
          "text": [
            "time: 515 ms (started: 2021-03-18 07:46:45 +00:00)\n"
          ],
          "name": "stdout"
        }
      ]
    },
    {
      "cell_type": "code",
      "metadata": {
        "id": "T7e5asH0MPWS",
        "colab": {
          "base_uri": "https://localhost:8080/"
        },
        "outputId": "10dd22b8-2583-45b5-e109-6ef28853a7b2"
      },
      "source": [
        "new_gem = [[154,40,8,9]]\n",
        "new_gem = scaler.transform(new_gem)\n",
        "new_gem"
      ],
      "execution_count": null,
      "outputs": [
        {
          "output_type": "execute_result",
          "data": {
            "text/plain": [
              "array([[1.37587605, 1.46813501, 1.67519028, 0.01803607]])"
            ]
          },
          "metadata": {
            "tags": []
          },
          "execution_count": 28
        },
        {
          "output_type": "stream",
          "text": [
            "time: 4.81 ms (started: 2021-03-18 07:46:46 +00:00)\n"
          ],
          "name": "stdout"
        }
      ]
    },
    {
      "cell_type": "code",
      "metadata": {
        "id": "6CN6UEUlM4EX",
        "colab": {
          "base_uri": "https://localhost:8080/"
        },
        "outputId": "9a076e96-e5f6-453e-e2ef-750b0fdce25a"
      },
      "source": [
        "model.predict(new_gem)"
      ],
      "execution_count": null,
      "outputs": [
        {
          "output_type": "execute_result",
          "data": {
            "text/plain": [
              "array([[0.13130756]], dtype=float32)"
            ]
          },
          "metadata": {
            "tags": []
          },
          "execution_count": 29
        },
        {
          "output_type": "stream",
          "text": [
            "time: 60.7 ms (started: 2021-03-18 07:46:46 +00:00)\n"
          ],
          "name": "stdout"
        }
      ]
    },
    {
      "cell_type": "code",
      "metadata": {
        "id": "X2EBrEZJu42g",
        "colab": {
          "base_uri": "https://localhost:8080/",
          "height": 411
        },
        "outputId": "43e79cff-c27d-44e8-9b5b-1f97feaa1e4f"
      },
      "source": [
        "plt.figure(figsize=(10,6))\n",
        "plt.scatter(y_Test,test_predictions)\n",
        "plt.plot(y_Test,y_Test,'r')"
      ],
      "execution_count": null,
      "outputs": [
        {
          "output_type": "execute_result",
          "data": {
            "text/plain": [
              "[<matplotlib.lines.Line2D at 0x7f32631905d0>]"
            ]
          },
          "metadata": {
            "tags": []
          },
          "execution_count": 30
        },
        {
          "output_type": "display_data",
          "data": {
            "image/png": "[encoded data removed]",
            "text/plain": [
              "<Figure size 720x432 with 1 Axes>"
            ]
          },
          "metadata": {
            "tags": [],
            "needs_background": "light"
          }
        },
        {
          "output_type": "stream",
          "text": [
            "time: 217 ms (started: 2021-03-18 07:46:46 +00:00)\n"
          ],
          "name": "stdout"
        }
      ]
    },
    {
      "cell_type": "code",
      "metadata": {
        "id": "v4QUEP_P0MhH",
        "colab": {
          "base_uri": "https://localhost:8080/",
          "height": 411
        },
        "outputId": "b4099cfc-2b50-4f0f-d71c-db342113f4a5"
      },
      "source": [
        "plt.figure(figsize=(10,6))\n",
        "plt.scatter(y_Test,test_predictions)\n",
        "plt.plot(y_Test,y_Test,'r')"
      ],
      "execution_count": null,
      "outputs": [
        {
          "output_type": "execute_result",
          "data": {
            "text/plain": [
              "[<matplotlib.lines.Line2D at 0x7f3263152990>]"
            ]
          },
          "metadata": {
            "tags": []
          },
          "execution_count": 31
        },
        {
          "output_type": "display_data",
          "data": {
            "image/png": "[encoded data removed]",
            "text/plain": [
              "<Figure size 720x432 with 1 Axes>"
            ]
          },
          "metadata": {
            "tags": [],
            "needs_background": "light"
          }
        },
        {
          "output_type": "stream",
          "text": [
            "time: 229 ms (started: 2021-03-18 07:46:46 +00:00)\n"
          ],
          "name": "stdout"
        }
      ]
    },
    {
      "cell_type": "code",
      "metadata": {
        "colab": {
          "base_uri": "https://localhost:8080/",
          "height": 411
        },
        "id": "xE7bwysHt2fm",
        "outputId": "1ea1f760-7d20-4d17-b985-d6d466f4b26c"
      },
      "source": [
        "plt.figure(figsize=(10,6))\n",
        "plt.scatter(y_train,train_predictions)\n",
        "plt.plot(y_train,y_train,'r')"
      ],
      "execution_count": null,
      "outputs": [
        {
          "output_type": "execute_result",
          "data": {
            "text/plain": [
              "[<matplotlib.lines.Line2D at 0x7f32630cec90>]"
            ]
          },
          "metadata": {
            "tags": []
          },
          "execution_count": 32
        },
        {
          "output_type": "display_data",
          "data": {
            "image/png": "[encoded data removed]",
            "text/plain": [
              "<Figure size 720x432 with 1 Axes>"
            ]
          },
          "metadata": {
            "tags": [],
            "needs_background": "light"
          }
        },
        {
          "output_type": "stream",
          "text": [
            "time: 239 ms (started: 2021-03-18 07:46:46 +00:00)\n"
          ],
          "name": "stdout"
        }
      ]
    },
    {
      "cell_type": "code",
      "metadata": {
        "id": "jW_LBUT4NBGJ",
        "colab": {
          "base_uri": "https://localhost:8080/"
        },
        "outputId": "fc8eae89-9db5-472d-b6c6-6b0ddf033653"
      },
      "source": [
        "from sklearn.metrics import mean_absolute_error,mean_squared_error\n",
        "mean_absolute_error(y_Test,test_predictions)"
      ],
      "execution_count": null,
      "outputs": [
        {
          "output_type": "execute_result",
          "data": {
            "text/plain": [
              "0.007137422138593711"
            ]
          },
          "metadata": {
            "tags": []
          },
          "execution_count": 33
        },
        {
          "output_type": "stream",
          "text": [
            "time: 10.1 ms (started: 2021-03-18 07:46:47 +00:00)\n"
          ],
          "name": "stdout"
        }
      ]
    },
    {
      "cell_type": "code",
      "metadata": {
        "id": "Ev7mLqTnNHHC",
        "colab": {
          "base_uri": "https://localhost:8080/"
        },
        "outputId": "30711ce2-71c1-4d1c-dd01-c7d74faea7fb"
      },
      "source": [
        "np.sqrt(mean_squared_error(y_Test,test_predictions))*100"
      ],
      "execution_count": null,
      "outputs": [
        {
          "output_type": "execute_result",
          "data": {
            "text/plain": [
              "1.0396063282024515"
            ]
          },
          "metadata": {
            "tags": []
          },
          "execution_count": 34
        },
        {
          "output_type": "stream",
          "text": [
            "time: 4.43 ms (started: 2021-03-18 07:46:47 +00:00)\n"
          ],
          "name": "stdout"
        }
      ]
    },
    {
      "cell_type": "code",
      "metadata": {
        "id": "N-hiwaj3NNzr",
        "colab": {
          "base_uri": "https://localhost:8080/"
        },
        "outputId": "b396205a-3a31-4f7e-e772-7d084bd8ac6a"
      },
      "source": [
        "from sklearn.metrics import explained_variance_score\n",
        "explained_variance_score(y_Test,test_predictions)"
      ],
      "execution_count": null,
      "outputs": [
        {
          "output_type": "execute_result",
          "data": {
            "text/plain": [
              "0.9803028149385898"
            ]
          },
          "metadata": {
            "tags": []
          },
          "execution_count": 35
        },
        {
          "output_type": "stream",
          "text": [
            "time: 8.51 ms (started: 2021-03-18 07:46:47 +00:00)\n"
          ],
          "name": "stdout"
        }
      ]
    },
    {
      "cell_type": "code",
      "metadata": {
        "colab": {
          "base_uri": "https://localhost:8080/",
          "height": 442
        },
        "id": "qsXF5gh70-pR",
        "outputId": "c7595d05-ab0d-4aef-deda-e4d9392789ad"
      },
      "source": [
        "testdf=pd.read_excel('Forced_testdata_lbt_86.03.xlsx')\n",
        "testdf"
      ],
      "execution_count": null,
      "outputs": [
        {
          "output_type": "execute_result",
          "data": {
            "text/html": [
              "<div>\n",
              "<style scoped>\n",
              "    .dataframe tbody tr th:only-of-type {\n",
              "        vertical-align: middle;\n",
              "    }\n",
              "\n",
              "    .dataframe tbody tr th {\n",
              "        vertical-align: top;\n",
              "    }\n",
              "\n",
              "    .dataframe thead th {\n",
              "        text-align: right;\n",
              "    }\n",
              "</style>\n",
              "<table border=\"1\" class=\"dataframe\">\n",
              "  <thead>\n",
              "    <tr style=\"text-align: right;\">\n",
              "      <th></th>\n",
              "      <th>L</th>\n",
              "      <th>B</th>\n",
              "      <th>T</th>\n",
              "      <th>t</th>\n",
              "    </tr>\n",
              "  </thead>\n",
              "  <tbody>\n",
              "    <tr>\n",
              "      <th>0</th>\n",
              "      <td>86.03</td>\n",
              "      <td>20</td>\n",
              "      <td>3.98</td>\n",
              "      <td>0</td>\n",
              "    </tr>\n",
              "    <tr>\n",
              "      <th>1</th>\n",
              "      <td>86.03</td>\n",
              "      <td>20</td>\n",
              "      <td>3.98</td>\n",
              "      <td>1</td>\n",
              "    </tr>\n",
              "    <tr>\n",
              "      <th>2</th>\n",
              "      <td>86.03</td>\n",
              "      <td>20</td>\n",
              "      <td>3.98</td>\n",
              "      <td>3</td>\n",
              "    </tr>\n",
              "    <tr>\n",
              "      <th>3</th>\n",
              "      <td>86.03</td>\n",
              "      <td>20</td>\n",
              "      <td>3.98</td>\n",
              "      <td>5</td>\n",
              "    </tr>\n",
              "    <tr>\n",
              "      <th>4</th>\n",
              "      <td>86.03</td>\n",
              "      <td>20</td>\n",
              "      <td>3.98</td>\n",
              "      <td>7</td>\n",
              "    </tr>\n",
              "    <tr>\n",
              "      <th>...</th>\n",
              "      <td>...</td>\n",
              "      <td>...</td>\n",
              "      <td>...</td>\n",
              "      <td>...</td>\n",
              "    </tr>\n",
              "    <tr>\n",
              "      <th>246</th>\n",
              "      <td>86.03</td>\n",
              "      <td>20</td>\n",
              "      <td>3.98</td>\n",
              "      <td>491</td>\n",
              "    </tr>\n",
              "    <tr>\n",
              "      <th>247</th>\n",
              "      <td>86.03</td>\n",
              "      <td>20</td>\n",
              "      <td>3.98</td>\n",
              "      <td>493</td>\n",
              "    </tr>\n",
              "    <tr>\n",
              "      <th>248</th>\n",
              "      <td>86.03</td>\n",
              "      <td>20</td>\n",
              "      <td>3.98</td>\n",
              "      <td>495</td>\n",
              "    </tr>\n",
              "    <tr>\n",
              "      <th>249</th>\n",
              "      <td>86.03</td>\n",
              "      <td>20</td>\n",
              "      <td>3.98</td>\n",
              "      <td>497</td>\n",
              "    </tr>\n",
              "    <tr>\n",
              "      <th>250</th>\n",
              "      <td>86.03</td>\n",
              "      <td>20</td>\n",
              "      <td>3.98</td>\n",
              "      <td>499</td>\n",
              "    </tr>\n",
              "  </tbody>\n",
              "</table>\n",
              "<p>251 rows × 4 columns</p>\n",
              "</div>"
            ],
            "text/plain": [
              "         L   B     T    t\n",
              "0    86.03  20  3.98    0\n",
              "1    86.03  20  3.98    1\n",
              "2    86.03  20  3.98    3\n",
              "3    86.03  20  3.98    5\n",
              "4    86.03  20  3.98    7\n",
              "..     ...  ..   ...  ...\n",
              "246  86.03  20  3.98  491\n",
              "247  86.03  20  3.98  493\n",
              "248  86.03  20  3.98  495\n",
              "249  86.03  20  3.98  497\n",
              "250  86.03  20  3.98  499\n",
              "\n",
              "[251 rows x 4 columns]"
            ]
          },
          "metadata": {
            "tags": []
          },
          "execution_count": 36
        },
        {
          "output_type": "stream",
          "text": [
            "time: 71.3 ms (started: 2021-03-18 07:46:47 +00:00)\n"
          ],
          "name": "stdout"
        }
      ]
    },
    {
      "cell_type": "code",
      "metadata": {
        "id": "V28dax6w1i9W",
        "colab": {
          "base_uri": "https://localhost:8080/"
        },
        "outputId": "e998fdb5-77ed-41eb-9680-77fb51ede33a"
      },
      "source": [
        "testdfsca = scaler.transform(testdf)\n",
        "testdfsca"
      ],
      "execution_count": null,
      "outputs": [
        {
          "output_type": "execute_result",
          "data": {
            "text/plain": [
              "array([[0.42795819, 0.34815419, 0.44556429, 0.        ],\n",
              "       [0.42795819, 0.34815419, 0.44556429, 0.00200401],\n",
              "       [0.42795819, 0.34815419, 0.44556429, 0.00601202],\n",
              "       ...,\n",
              "       [0.42795819, 0.34815419, 0.44556429, 0.99198397],\n",
              "       [0.42795819, 0.34815419, 0.44556429, 0.99599198],\n",
              "       [0.42795819, 0.34815419, 0.44556429, 1.        ]])"
            ]
          },
          "metadata": {
            "tags": []
          },
          "execution_count": 37
        },
        {
          "output_type": "stream",
          "text": [
            "time: 12.8 ms (started: 2021-03-18 07:46:47 +00:00)\n"
          ],
          "name": "stdout"
        }
      ]
    },
    {
      "cell_type": "code",
      "metadata": {
        "id": "RIh9b97i1s8V",
        "colab": {
          "base_uri": "https://localhost:8080/"
        },
        "outputId": "94d012ff-404c-4eb8-8fce-7e5f63f70ada"
      },
      "source": [
        "predicttestdf=model.predict(testdfsca)"
      ],
      "execution_count": null,
      "outputs": [
        {
          "output_type": "stream",
          "text": [
            "time: 75.5 ms (started: 2021-03-18 07:46:47 +00:00)\n"
          ],
          "name": "stdout"
        }
      ]
    },
    {
      "cell_type": "code",
      "metadata": {
        "id": "jjktq5-B2szZ",
        "colab": {
          "base_uri": "https://localhost:8080/"
        },
        "outputId": "1d03fde2-bb73-496b-ae28-8b8acc81db74"
      },
      "source": [
        "predicttestdf\n"
      ],
      "execution_count": null,
      "outputs": [
        {
          "output_type": "execute_result",
          "data": {
            "text/plain": [
              "array([[ 0.0856014 ],\n",
              "       [ 0.08535308],\n",
              "       [ 0.08485643],\n",
              "       [ 0.08435903],\n",
              "       [ 0.08385563],\n",
              "       [ 0.08329279],\n",
              "       [ 0.08269207],\n",
              "       [ 0.08209135],\n",
              "       [ 0.08149064],\n",
              "       [ 0.08088993],\n",
              "       [ 0.08030452],\n",
              "       [ 0.07967949],\n",
              "       [ 0.07897045],\n",
              "       [ 0.07826088],\n",
              "       [ 0.07751159],\n",
              "       [ 0.07675692],\n",
              "       [ 0.07599964],\n",
              "       [ 0.07522188],\n",
              "       [ 0.07434991],\n",
              "       [ 0.07335214],\n",
              "       [ 0.072355  ],\n",
              "       [ 0.07135831],\n",
              "       [ 0.07036465],\n",
              "       [ 0.06937867],\n",
              "       [ 0.06839267],\n",
              "       [ 0.06740668],\n",
              "       [ 0.06642074],\n",
              "       [ 0.06533881],\n",
              "       [ 0.06422729],\n",
              "       [ 0.06312056],\n",
              "       [ 0.06202876],\n",
              "       [ 0.06084193],\n",
              "       [ 0.05962653],\n",
              "       [ 0.05842175],\n",
              "       [ 0.05722583],\n",
              "       [ 0.05601149],\n",
              "       [ 0.05469518],\n",
              "       [ 0.05337137],\n",
              "       [ 0.05196866],\n",
              "       [ 0.05046621],\n",
              "       [ 0.04896071],\n",
              "       [ 0.04746815],\n",
              "       [ 0.04601013],\n",
              "       [ 0.04455594],\n",
              "       [ 0.04305739],\n",
              "       [ 0.04147855],\n",
              "       [ 0.0398746 ],\n",
              "       [ 0.03822684],\n",
              "       [ 0.03650168],\n",
              "       [ 0.03459142],\n",
              "       [ 0.03268332],\n",
              "       [ 0.03081114],\n",
              "       [ 0.02894237],\n",
              "       [ 0.02706754],\n",
              "       [ 0.02519061],\n",
              "       [ 0.0232426 ],\n",
              "       [ 0.02120045],\n",
              "       [ 0.01905893],\n",
              "       [ 0.01694396],\n",
              "       [ 0.01484411],\n",
              "       [ 0.01267405],\n",
              "       [ 0.01036046],\n",
              "       [ 0.00796041],\n",
              "       [ 0.00562332],\n",
              "       [ 0.00359334],\n",
              "       [ 0.00136115],\n",
              "       [-0.00100237],\n",
              "       [-0.00330426],\n",
              "       [-0.00546086],\n",
              "       [-0.00736865],\n",
              "       [-0.00926859],\n",
              "       [-0.01093624],\n",
              "       [-0.01249628],\n",
              "       [-0.01400513],\n",
              "       [-0.01551251],\n",
              "       [-0.01701987],\n",
              "       [-0.01861032],\n",
              "       [-0.02019017],\n",
              "       [-0.02178325],\n",
              "       [-0.02343155],\n",
              "       [-0.02510045],\n",
              "       [-0.02681839],\n",
              "       [-0.02841574],\n",
              "       [-0.02996182],\n",
              "       [-0.03126015],\n",
              "       [-0.03243625],\n",
              "       [-0.03360895],\n",
              "       [-0.03476998],\n",
              "       [-0.0359269 ],\n",
              "       [-0.03708383],\n",
              "       [-0.03830426],\n",
              "       [-0.03980748],\n",
              "       [-0.04137478],\n",
              "       [-0.0429723 ],\n",
              "       [-0.0441399 ],\n",
              "       [-0.04535132],\n",
              "       [-0.04640978],\n",
              "       [-0.04723951],\n",
              "       [-0.04809647],\n",
              "       [-0.04898392],\n",
              "       [-0.04988475],\n",
              "       [-0.05079348],\n",
              "       [-0.05169126],\n",
              "       [-0.05258911],\n",
              "       [-0.05357896],\n",
              "       [-0.05464942],\n",
              "       [-0.05576755],\n",
              "       [-0.05674648],\n",
              "       [-0.05748691],\n",
              "       [-0.05828399],\n",
              "       [-0.05910445],\n",
              "       [-0.05996053],\n",
              "       [-0.06081662],\n",
              "       [-0.06167827],\n",
              "       [-0.06259158],\n",
              "       [-0.06349013],\n",
              "       [-0.06441653],\n",
              "       [-0.06541798],\n",
              "       [-0.06643223],\n",
              "       [-0.06737105],\n",
              "       [-0.06826102],\n",
              "       [-0.06915663],\n",
              "       [-0.06965008],\n",
              "       [-0.06971974],\n",
              "       [-0.06956406],\n",
              "       [-0.06940946],\n",
              "       [-0.06896537],\n",
              "       [-0.06852818],\n",
              "       [-0.06825785],\n",
              "       [-0.06799174],\n",
              "       [-0.06774963],\n",
              "       [-0.06738602],\n",
              "       [-0.06687642],\n",
              "       [-0.06637073],\n",
              "       [-0.06597016],\n",
              "       [-0.06558254],\n",
              "       [-0.06512472],\n",
              "       [-0.06465543],\n",
              "       [-0.06419776],\n",
              "       [-0.06375472],\n",
              "       [-0.06321348],\n",
              "       [-0.06268584],\n",
              "       [-0.0621582 ],\n",
              "       [-0.0614533 ],\n",
              "       [-0.06048934],\n",
              "       [-0.05950045],\n",
              "       [-0.05859645],\n",
              "       [-0.05771061],\n",
              "       [-0.05682477],\n",
              "       [-0.05593891],\n",
              "       [-0.05499021],\n",
              "       [-0.05398164],\n",
              "       [-0.05300429],\n",
              "       [-0.05198284],\n",
              "       [-0.05087446],\n",
              "       [-0.04971887],\n",
              "       [-0.04863586],\n",
              "       [-0.04756114],\n",
              "       [-0.04593688],\n",
              "       [-0.04422483],\n",
              "       [-0.04253091],\n",
              "       [-0.04094151],\n",
              "       [-0.03936799],\n",
              "       [-0.03782932],\n",
              "       [-0.03635445],\n",
              "       [-0.03488704],\n",
              "       [-0.03335834],\n",
              "       [-0.03181062],\n",
              "       [-0.03023057],\n",
              "       [-0.02868691],\n",
              "       [-0.02715023],\n",
              "       [-0.02561356],\n",
              "       [-0.0240791 ],\n",
              "       [-0.02249412],\n",
              "       [-0.02078953],\n",
              "       [-0.01901601],\n",
              "       [-0.01722618],\n",
              "       [-0.0154683 ],\n",
              "       [-0.01371039],\n",
              "       [-0.0119525 ],\n",
              "       [-0.01021014],\n",
              "       [-0.00839923],\n",
              "       [-0.00649945],\n",
              "       [-0.00456732],\n",
              "       [-0.00258807],\n",
              "       [-0.00065545],\n",
              "       [ 0.00127167],\n",
              "       [ 0.00326609],\n",
              "       [ 0.00525103],\n",
              "       [ 0.00715539],\n",
              "       [ 0.00897897],\n",
              "       [ 0.01072995],\n",
              "       [ 0.01238202],\n",
              "       [ 0.01401846],\n",
              "       [ 0.0156593 ],\n",
              "       [ 0.01728697],\n",
              "       [ 0.01901075],\n",
              "       [ 0.02070843],\n",
              "       [ 0.0224252 ],\n",
              "       [ 0.02424769],\n",
              "       [ 0.02616421],\n",
              "       [ 0.0280599 ],\n",
              "       [ 0.02989552],\n",
              "       [ 0.03167842],\n",
              "       [ 0.0333257 ],\n",
              "       [ 0.03497268],\n",
              "       [ 0.03663605],\n",
              "       [ 0.03824878],\n",
              "       [ 0.03978009],\n",
              "       [ 0.04123086],\n",
              "       [ 0.04263294],\n",
              "       [ 0.04401692],\n",
              "       [ 0.04540091],\n",
              "       [ 0.04678489],\n",
              "       [ 0.04805763],\n",
              "       [ 0.04932952],\n",
              "       [ 0.05052638],\n",
              "       [ 0.05176351],\n",
              "       [ 0.05300961],\n",
              "       [ 0.05407942],\n",
              "       [ 0.0550233 ],\n",
              "       [ 0.05595805],\n",
              "       [ 0.05685357],\n",
              "       [ 0.05768636],\n",
              "       [ 0.05851912],\n",
              "       [ 0.0593519 ],\n",
              "       [ 0.06008338],\n",
              "       [ 0.06070479],\n",
              "       [ 0.06125708],\n",
              "       [ 0.06179049],\n",
              "       [ 0.06232389],\n",
              "       [ 0.06285727],\n",
              "       [ 0.06339068],\n",
              "       [ 0.06392406],\n",
              "       [ 0.0644113 ],\n",
              "       [ 0.0648293 ],\n",
              "       [ 0.06524729],\n",
              "       [ 0.06563171],\n",
              "       [ 0.06596821],\n",
              "       [ 0.06630471],\n",
              "       [ 0.0666412 ],\n",
              "       [ 0.06697685],\n",
              "       [ 0.06730975],\n",
              "       [ 0.06764267],\n",
              "       [ 0.06797542],\n",
              "       [ 0.06830616],\n",
              "       [ 0.06863686],\n",
              "       [ 0.0689676 ],\n",
              "       [ 0.06929832],\n",
              "       [ 0.06962905],\n",
              "       [ 0.06995989]], dtype=float32)"
            ]
          },
          "metadata": {
            "tags": []
          },
          "execution_count": 39
        },
        {
          "output_type": "stream",
          "text": [
            "time: 10.1 ms (started: 2021-03-18 07:46:47 +00:00)\n"
          ],
          "name": "stdout"
        }
      ]
    },
    {
      "cell_type": "code",
      "metadata": {
        "id": "dl50RnMY3YM5",
        "colab": {
          "base_uri": "https://localhost:8080/",
          "height": 442
        },
        "outputId": "33f61a49-d9b0-4780-cd66-c07f6be39758"
      },
      "source": [
        "zreal=pd.read_excel('forced_z83.xlsx')\n",
        "zreal"
      ],
      "execution_count": null,
      "outputs": [
        {
          "output_type": "execute_result",
          "data": {
            "text/html": [
              "<div>\n",
              "<style scoped>\n",
              "    .dataframe tbody tr th:only-of-type {\n",
              "        vertical-align: middle;\n",
              "    }\n",
              "\n",
              "    .dataframe tbody tr th {\n",
              "        vertical-align: top;\n",
              "    }\n",
              "\n",
              "    .dataframe thead th {\n",
              "        text-align: right;\n",
              "    }\n",
              "</style>\n",
              "<table border=\"1\" class=\"dataframe\">\n",
              "  <thead>\n",
              "    <tr style=\"text-align: right;\">\n",
              "      <th></th>\n",
              "      <th>z</th>\n",
              "    </tr>\n",
              "  </thead>\n",
              "  <tbody>\n",
              "    <tr>\n",
              "      <th>0</th>\n",
              "      <td>0.000000</td>\n",
              "    </tr>\n",
              "    <tr>\n",
              "      <th>1</th>\n",
              "      <td>0.094556</td>\n",
              "    </tr>\n",
              "    <tr>\n",
              "      <th>2</th>\n",
              "      <td>0.094497</td>\n",
              "    </tr>\n",
              "    <tr>\n",
              "      <th>3</th>\n",
              "      <td>0.094379</td>\n",
              "    </tr>\n",
              "    <tr>\n",
              "      <th>4</th>\n",
              "      <td>0.094202</td>\n",
              "    </tr>\n",
              "    <tr>\n",
              "      <th>...</th>\n",
              "      <td>...</td>\n",
              "    </tr>\n",
              "    <tr>\n",
              "      <th>246</th>\n",
              "      <td>0.093512</td>\n",
              "    </tr>\n",
              "    <tr>\n",
              "      <th>247</th>\n",
              "      <td>0.093834</td>\n",
              "    </tr>\n",
              "    <tr>\n",
              "      <th>248</th>\n",
              "      <td>0.094097</td>\n",
              "    </tr>\n",
              "    <tr>\n",
              "      <th>249</th>\n",
              "      <td>0.094302</td>\n",
              "    </tr>\n",
              "    <tr>\n",
              "      <th>250</th>\n",
              "      <td>0.094448</td>\n",
              "    </tr>\n",
              "  </tbody>\n",
              "</table>\n",
              "<p>251 rows × 1 columns</p>\n",
              "</div>"
            ],
            "text/plain": [
              "            z\n",
              "0    0.000000\n",
              "1    0.094556\n",
              "2    0.094497\n",
              "3    0.094379\n",
              "4    0.094202\n",
              "..        ...\n",
              "246  0.093512\n",
              "247  0.093834\n",
              "248  0.094097\n",
              "249  0.094302\n",
              "250  0.094448\n",
              "\n",
              "[251 rows x 1 columns]"
            ]
          },
          "metadata": {
            "tags": []
          },
          "execution_count": 40
        },
        {
          "output_type": "stream",
          "text": [
            "time: 28.4 ms (started: 2021-03-18 07:46:47 +00:00)\n"
          ],
          "name": "stdout"
        }
      ]
    },
    {
      "cell_type": "code",
      "metadata": {
        "id": "gh2F8dML14An",
        "colab": {
          "base_uri": "https://localhost:8080/",
          "height": 368
        },
        "outputId": "ba46d71f-6994-45f1-93bf-4f2dda08418d"
      },
      "source": [
        "fig=plt.figure (figsize = (14,5))\n",
        "plt.plot(zreal, color = 'blue', label = 'Cases Actual')\n",
        "plt.plot(predicttestdf,color = 'red', label = 'Prediction')\n",
        "plt.title('Prediction Barge')\n",
        "plt.xlabel('time (s)')\n",
        "plt.ylabel('Heaving Displacement (m)')\n",
        "plt.legend()\n",
        "plt.show()\n",
        "fig.savefig('1.png')"
      ],
      "execution_count": null,
      "outputs": [
        {
          "output_type": "display_data",
          "data": {
            "image/png": "[encoded data removed]",
            "text/plain": [
              "<Figure size 1008x360 with 1 Axes>"
            ]
          },
          "metadata": {
            "tags": [],
            "needs_background": "light"
          }
        },
        {
          "output_type": "stream",
          "text": [
            "time: 338 ms (started: 2021-03-18 07:46:47 +00:00)\n"
          ],
          "name": "stdout"
        }
      ]
    }
  ]
}